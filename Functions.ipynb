{
 "cells": [
  {
   "cell_type": "markdown",
   "id": "1f558139",
   "metadata": {
    "slideshow": {
     "slide_type": "slide"
    }
   },
   "source": [
    "# Functions"
   ]
  },
  {
   "cell_type": "markdown",
   "id": "6820c3b3",
   "metadata": {
    "slideshow": {
     "slide_type": "subslide"
    }
   },
   "source": [
    "## Syntax"
   ]
  },
  {
   "cell_type": "code",
   "execution_count": null,
   "id": "c8ee501f",
   "metadata": {
    "slideshow": {
     "slide_type": "fragment"
    }
   },
   "outputs": [],
   "source": []
  },
  {
   "cell_type": "markdown",
   "id": "809bacc2",
   "metadata": {
    "slideshow": {
     "slide_type": "notes"
    }
   },
   "source": [
    "- example\n",
    "```\n",
    "def hello_func(greeting):\n",
    "    return f'Hello {greeting}'\n",
    "print(hello_func)\n",
    "hello_func()\n",
    "print(hello_func('Guys').upper())\n",
    "```"
   ]
  },
  {
   "cell_type": "markdown",
   "id": "181ac0f3",
   "metadata": {
    "slideshow": {
     "slide_type": "fragment"
    }
   },
   "source": [
    "Things to remember: \n",
    "- When you call a function you pass in `parameters`\n",
    "- When you define a function you mention `arguments`\n",
    "- A function always returns `None` if nothing is returned explicitely"
   ]
  },
  {
   "cell_type": "markdown",
   "id": "56c22608",
   "metadata": {
    "slideshow": {
     "slide_type": "subslide"
    }
   },
   "source": [
    "## Function with \"default\" Arguments"
   ]
  },
  {
   "cell_type": "code",
   "execution_count": null,
   "id": "5ff5919e",
   "metadata": {
    "slideshow": {
     "slide_type": "fragment"
    }
   },
   "outputs": [],
   "source": [
    "def hello_func(greeting):\n",
    "    return f'{greeting}, Guys'\n",
    "\n",
    "print(hello_func('Hi'))"
   ]
  },
  {
   "cell_type": "markdown",
   "id": "a185561d",
   "metadata": {
    "slideshow": {
     "slide_type": "fragment"
    }
   },
   "source": [
    "Things to remember: Default arguments will always come after positional arguments."
   ]
  },
  {
   "cell_type": "markdown",
   "id": "dbf20f02",
   "metadata": {
    "slideshow": {
     "slide_type": "notes"
    }
   },
   "source": [
    "- example\n",
    "```\n",
    "def hello_func(greeting, name='Guys'):\n",
    "    return f'{greeting}, {name}'\n",
    "print(hello_func('Hi'))\n",
    "print(hello_func('Hi', 'Guys'))\n",
    "```"
   ]
  },
  {
   "cell_type": "markdown",
   "id": "9464c299",
   "metadata": {
    "slideshow": {
     "slide_type": "subslide"
    }
   },
   "source": [
    "## Named Arguments"
   ]
  },
  {
   "cell_type": "code",
   "execution_count": null,
   "id": "b48b9ceb",
   "metadata": {
    "slideshow": {
     "slide_type": "fragment"
    }
   },
   "outputs": [],
   "source": [
    "def student_info(name, stream):\n",
    "    print(f'{name} is in {stream} stream')\n",
    "student_info('John', 'Maths')"
   ]
  },
  {
   "cell_type": "markdown",
   "id": "e74ecb13",
   "metadata": {
    "slideshow": {
     "slide_type": "notes"
    }
   },
   "source": [
    "- example\n",
    "```\n",
    "def student_info(*args, **kwargs):\n",
    "    print(args)\n",
    "    print(kwargs)\n",
    "student_info('John', 'Maths', age=20, email='john@email.com')\n",
    "```"
   ]
  },
  {
   "cell_type": "markdown",
   "id": "700a6e3d",
   "metadata": {
    "slideshow": {
     "slide_type": "subslide"
    }
   },
   "source": [
    "## Unpacking Arguments"
   ]
  },
  {
   "cell_type": "code",
   "execution_count": null,
   "id": "35ad723d",
   "metadata": {
    "slideshow": {
     "slide_type": "fragment"
    }
   },
   "outputs": [],
   "source": [
    "def student_info(*args, **kwargs):\n",
    "    print(args)\n",
    "    print(kwargs)\n",
    "\n",
    "student_info('John', 'Maths', age=20, email='john@email.com')"
   ]
  },
  {
   "cell_type": "markdown",
   "id": "ea243549",
   "metadata": {
    "slideshow": {
     "slide_type": "notes"
    }
   },
   "source": [
    "- example\n",
    "```\n",
    "def student_info(*args, **kwargs):\n",
    "    print(args)\n",
    "    print(kwargs)\n",
    "mandatory = ['John', 'Maths']\n",
    "optional = {'age': 20, 'email': 'john@email.com'}\n",
    "student_info(*mandatory, **optional)\n",
    "```"
   ]
  },
  {
   "cell_type": "markdown",
   "id": "46e99075",
   "metadata": {
    "slideshow": {
     "slide_type": "subslide"
    }
   },
   "source": [
    "## Thank You\n",
    "Do you have any questions"
   ]
  }
 ],
 "metadata": {
  "celltoolbar": "Slideshow",
  "kernelspec": {
   "display_name": "Python 3 (ipykernel)",
   "language": "python",
   "name": "python3"
  },
  "language_info": {
   "codemirror_mode": {
    "name": "ipython",
    "version": 3
   },
   "file_extension": ".py",
   "mimetype": "text/x-python",
   "name": "python",
   "nbconvert_exporter": "python",
   "pygments_lexer": "ipython3",
   "version": "3.8.9"
  },
  "rise": {
   "auto_select": "code",
   "enable_chalkboard": true,
   "start_slideshow_at": "beginning"
  }
 },
 "nbformat": 4,
 "nbformat_minor": 5
}
