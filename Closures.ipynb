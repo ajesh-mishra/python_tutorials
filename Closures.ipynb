{
 "cells": [
  {
   "cell_type": "markdown",
   "id": "22857105",
   "metadata": {
    "slideshow": {
     "slide_type": "slide"
    }
   },
   "source": [
    "# Closures"
   ]
  },
  {
   "cell_type": "markdown",
   "id": "2ebd26a7",
   "metadata": {
    "slideshow": {
     "slide_type": "subslide"
    }
   },
   "source": [
    "## First-Class Functions"
   ]
  },
  {
   "cell_type": "markdown",
   "id": "79a46984",
   "metadata": {
    "slideshow": {
     "slide_type": "fragment"
    }
   },
   "source": [
    "- `functions` can be passed as argument\n",
    "- `functions` can be returned from another function\n",
    "- `functions` can be assigned to a variable"
   ]
  },
  {
   "cell_type": "code",
   "execution_count": null,
   "id": "3b24a973",
   "metadata": {
    "slideshow": {
     "slide_type": "fragment"
    }
   },
   "outputs": [],
   "source": []
  },
  {
   "cell_type": "code",
   "execution_count": null,
   "id": "a87c7e0e",
   "metadata": {
    "slideshow": {
     "slide_type": "notes"
    }
   },
   "outputs": [],
   "source": [
    "# example: \n",
    "# `function` can be stored in a variable\n",
    "def square(num):\n",
    "    return num * num\n",
    "\n",
    "f = square(5)\n",
    "\n",
    "print(square)\n",
    "print(f)"
   ]
  },
  {
   "cell_type": "code",
   "execution_count": null,
   "id": "0ff05f98",
   "metadata": {
    "slideshow": {
     "slide_type": "notes"
    }
   },
   "outputs": [],
   "source": [
    "# example: \n",
    "# `function` can be passed as an argument to another function\n",
    "\n",
    "def cube(num):\n",
    "    return num ** 3\n",
    "    \n",
    "def square(num):\n",
    "    return num ** 2\n",
    "    \n",
    "def map(func, sequence):\n",
    "    result = []\n",
    "    for i in sequence:\n",
    "        result.append(func(i))\n",
    "    return result\n",
    "    \n",
    "squares = map(square, [1, 2, 3, 4])\n",
    "print(squares)"
   ]
  },
  {
   "cell_type": "code",
   "execution_count": null,
   "id": "a3cac7ed",
   "metadata": {
    "slideshow": {
     "slide_type": "notes"
    }
   },
   "outputs": [],
   "source": [
    "# example: \n",
    "# `function` can be returned as an argument\n",
    "\n",
    "def logger(msg):\n",
    "    def log_message():\n",
    "        print('Log: ', msg)\n",
    "        \n",
    "    print(log_message)\n",
    "    return log_message\n",
    "\n",
    "log_hi = logger('Hi')\n",
    "print(log_hi)\n",
    "print(log_hi.__name__)\n",
    "\n",
    "log_hi()"
   ]
  },
  {
   "cell_type": "markdown",
   "id": "f9bfc080",
   "metadata": {
    "slideshow": {
     "slide_type": "subslide"
    }
   },
   "source": [
    "## Closures"
   ]
  },
  {
   "cell_type": "markdown",
   "id": "bf24592d",
   "metadata": {
    "slideshow": {
     "slide_type": "fragment"
    }
   },
   "source": [
    "Functions remember the state of the variables when it was created."
   ]
  },
  {
   "cell_type": "code",
   "execution_count": null,
   "id": "2fd661be",
   "metadata": {
    "slideshow": {
     "slide_type": "fragment"
    }
   },
   "outputs": [],
   "source": [
    "def outer():\n",
    "    message = 'Hi'\n",
    "\n",
    "    def inner():\n",
    "        print(message)\n",
    "\n",
    "    return inner\n",
    "\n",
    "func = outer()"
   ]
  },
  {
   "cell_type": "code",
   "execution_count": null,
   "id": "4803e3b3",
   "metadata": {
    "slideshow": {
     "slide_type": "notes"
    }
   },
   "outputs": [],
   "source": [
    "# example:\n",
    "\n",
    "def outer(msg):\n",
    "    message = msg\n",
    "    \n",
    "    def inner():\n",
    "        print(message)\n",
    "        \n",
    "    return inner\n",
    "\n",
    "hi_func = outer('Hi')\n",
    "hello_func = outer('Hello')\n",
    "\n",
    "hi_func()\n",
    "hello_func()"
   ]
  },
  {
   "cell_type": "markdown",
   "id": "1dbc102d",
   "metadata": {
    "slideshow": {
     "slide_type": "subslide"
    }
   },
   "source": [
    "## Thank You\n",
    "Do you have any questions?"
   ]
  }
 ],
 "metadata": {
  "celltoolbar": "Slideshow",
  "kernelspec": {
   "display_name": "Python 3 (ipykernel)",
   "language": "python",
   "name": "python3"
  },
  "language_info": {
   "codemirror_mode": {
    "name": "ipython",
    "version": 3
   },
   "file_extension": ".py",
   "mimetype": "text/x-python",
   "name": "python",
   "nbconvert_exporter": "python",
   "pygments_lexer": "ipython3",
   "version": "3.8.9"
  },
  "rise": {
   "auto_select": "code",
   "enable_chalkboard": true,
   "start_slideshow_at": "beginning"
  }
 },
 "nbformat": 4,
 "nbformat_minor": 5
}
