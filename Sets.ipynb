{
 "cells": [
  {
   "cell_type": "markdown",
   "id": "ce520ca3",
   "metadata": {
    "slideshow": {
     "slide_type": "slide"
    }
   },
   "source": [
    "# Sets"
   ]
  },
  {
   "cell_type": "markdown",
   "id": "d19e38a8",
   "metadata": {
    "slideshow": {
     "slide_type": "subslide"
    }
   },
   "source": [
    "## Syntax"
   ]
  },
  {
   "cell_type": "code",
   "execution_count": 7,
   "id": "ad50742e",
   "metadata": {
    "slideshow": {
     "slide_type": "fragment"
    }
   },
   "outputs": [],
   "source": []
  },
  {
   "cell_type": "markdown",
   "id": "480ba397",
   "metadata": {
    "slideshow": {
     "slide_type": "notes"
    }
   },
   "source": [
    "- example: `cs_courses = {'History', 'Math', 'Physics', 'Computer'}`"
   ]
  },
  {
   "cell_type": "markdown",
   "id": "465b59cd",
   "metadata": {
    "slideshow": {
     "slide_type": "fragment"
    }
   },
   "source": [
    "- Sets are un-ordered"
   ]
  },
  {
   "cell_type": "code",
   "execution_count": 16,
   "id": "225fad02",
   "metadata": {
    "slideshow": {
     "slide_type": "fragment"
    }
   },
   "outputs": [],
   "source": [
    "cs_courses = {'History', 'Math', 'Physics', 'Computer', 'Math'}"
   ]
  },
  {
   "cell_type": "markdown",
   "id": "83344dd4",
   "metadata": {
    "slideshow": {
     "slide_type": "notes"
    }
   },
   "source": [
    "- It will still print the same\n",
    "- example: `print( 'Math' in cs_course)`"
   ]
  },
  {
   "attachments": {
    "image.png": {
     "image/png": "[encoded data removed]"
    }
   },
   "cell_type": "markdown",
   "id": "6380d4d0",
   "metadata": {
    "slideshow": {
     "slide_type": "subslide"
    }
   },
   "source": [
    "![image.png](attachment:image.png)"
   ]
  },
  {
   "cell_type": "markdown",
   "id": "65dd309d",
   "metadata": {
    "slideshow": {
     "slide_type": "subslide"
    }
   },
   "source": [
    "## Set Operations"
   ]
  },
  {
   "cell_type": "markdown",
   "id": "bf5ea756",
   "metadata": {
    "slideshow": {
     "slide_type": "fragment"
    }
   },
   "source": [
    "- Common Elements b/w Sets: `intersection`"
   ]
  },
  {
   "cell_type": "code",
   "execution_count": 8,
   "id": "daef5282",
   "metadata": {
    "slideshow": {
     "slide_type": "fragment"
    }
   },
   "outputs": [],
   "source": [
    "cs_courses = {'History', 'Math', 'Physics', 'Computer'}\n",
    "art_courses = {'History', 'Math', 'Arts', 'Design'}"
   ]
  },
  {
   "cell_type": "markdown",
   "id": "8ea750a8",
   "metadata": {
    "slideshow": {
     "slide_type": "notes"
    }
   },
   "source": [
    "- example: `print(cs_courses.intersection(art_courses))`"
   ]
  },
  {
   "cell_type": "markdown",
   "id": "564f24f9",
   "metadata": {
    "slideshow": {
     "slide_type": "fragment"
    }
   },
   "source": [
    "- Difference b/w Sets: `difference`"
   ]
  },
  {
   "cell_type": "code",
   "execution_count": 8,
   "id": "98653448",
   "metadata": {
    "slideshow": {
     "slide_type": "fragment"
    }
   },
   "outputs": [],
   "source": [
    "cs_courses = {'History', 'Math', 'Physics', 'Computer'}\n",
    "art_courses = {'History', 'Math', 'Arts', 'Design'}"
   ]
  },
  {
   "cell_type": "markdown",
   "id": "d955c899",
   "metadata": {
    "slideshow": {
     "slide_type": "notes"
    }
   },
   "source": [
    "- example: `print(cs_courses.difference(art_courses))`"
   ]
  },
  {
   "cell_type": "markdown",
   "id": "e32880c1",
   "metadata": {
    "slideshow": {
     "slide_type": "fragment"
    }
   },
   "source": [
    "- Combine Sets: `Union`"
   ]
  },
  {
   "cell_type": "code",
   "execution_count": 8,
   "id": "69a27b0e",
   "metadata": {
    "slideshow": {
     "slide_type": "fragment"
    }
   },
   "outputs": [],
   "source": [
    "cs_courses = {'History', 'Math', 'Physics', 'Computer'}\n",
    "art_courses = {'History', 'Math', 'Arts', 'Design'}"
   ]
  },
  {
   "cell_type": "markdown",
   "id": "40104a0d",
   "metadata": {
    "slideshow": {
     "slide_type": "notes"
    }
   },
   "source": [
    "- example: `print(cs_courses.union(art_courses))`"
   ]
  },
  {
   "cell_type": "markdown",
   "id": "5b94214c",
   "metadata": {
    "slideshow": {
     "slide_type": "subslide"
    }
   },
   "source": [
    "## Initialize Empty Data Types"
   ]
  },
  {
   "cell_type": "markdown",
   "id": "8495d3a0",
   "metadata": {
    "slideshow": {
     "slide_type": "fragment"
    }
   },
   "source": [
    "- Empty Lists\n"
   ]
  },
  {
   "cell_type": "code",
   "execution_count": 3,
   "id": "d4f8c6f5",
   "metadata": {
    "slideshow": {
     "slide_type": "fragment"
    }
   },
   "outputs": [],
   "source": []
  },
  {
   "cell_type": "markdown",
   "id": "307227e0",
   "metadata": {
    "slideshow": {
     "slide_type": "notes"
    }
   },
   "source": [
    "- `empty_list = []`\n",
    "- `empty_list = list()`"
   ]
  },
  {
   "cell_type": "markdown",
   "id": "428d88e8",
   "metadata": {
    "slideshow": {
     "slide_type": "fragment"
    }
   },
   "source": [
    "- Empty Tuples"
   ]
  },
  {
   "cell_type": "code",
   "execution_count": 6,
   "id": "72cdd442",
   "metadata": {
    "slideshow": {
     "slide_type": "fragment"
    }
   },
   "outputs": [],
   "source": []
  },
  {
   "cell_type": "markdown",
   "id": "c995301a",
   "metadata": {
    "slideshow": {
     "slide_type": "notes"
    }
   },
   "source": [
    "- `empty_tuple = ()`\n",
    "- `empty_tuple = tuple()`"
   ]
  },
  {
   "cell_type": "markdown",
   "id": "a354d992",
   "metadata": {
    "slideshow": {
     "slide_type": "subslide"
    }
   },
   "source": [
    "## Initialize Empty Data Types"
   ]
  },
  {
   "cell_type": "markdown",
   "id": "4517c79f",
   "metadata": {
    "slideshow": {
     "slide_type": "fragment"
    }
   },
   "source": [
    "- Empty Dictionary"
   ]
  },
  {
   "cell_type": "code",
   "execution_count": 9,
   "id": "10d7f7d3",
   "metadata": {
    "slideshow": {
     "slide_type": "fragment"
    }
   },
   "outputs": [],
   "source": []
  },
  {
   "cell_type": "markdown",
   "id": "863aed2d",
   "metadata": {
    "slideshow": {
     "slide_type": "notes"
    }
   },
   "source": [
    "- this is not right! It's a dict: `empty_set = {}` "
   ]
  },
  {
   "cell_type": "markdown",
   "id": "9b9ec8d5",
   "metadata": {
    "slideshow": {
     "slide_type": "fragment"
    }
   },
   "source": [
    "- Empty Sets"
   ]
  },
  {
   "cell_type": "code",
   "execution_count": null,
   "id": "3dd533a7",
   "metadata": {
    "slideshow": {
     "slide_type": "fragment"
    }
   },
   "outputs": [],
   "source": []
  },
  {
   "cell_type": "markdown",
   "id": "0f6f706c",
   "metadata": {
    "slideshow": {
     "slide_type": "notes"
    }
   },
   "source": [
    "- `empty_set = set()`"
   ]
  },
  {
   "cell_type": "markdown",
   "id": "ed872306",
   "metadata": {
    "slideshow": {
     "slide_type": "subslide"
    }
   },
   "source": [
    "## Thank You\n",
    "Do you have any questions?"
   ]
  }
 ],
 "metadata": {
  "celltoolbar": "Slideshow",
  "kernelspec": {
   "display_name": "Python 3 (ipykernel)",
   "language": "python",
   "name": "python3"
  },
  "language_info": {
   "codemirror_mode": {
    "name": "ipython",
    "version": 3
   },
   "file_extension": ".py",
   "mimetype": "text/x-python",
   "name": "python",
   "nbconvert_exporter": "python",
   "pygments_lexer": "ipython3",
   "version": "3.8.9"
  },
  "rise": {
   "auto_select": "code",
   "enable_chalkboard": true,
   "start_slideshow_at": "beginning"
  }
 },
 "nbformat": 4,
 "nbformat_minor": 5
}
