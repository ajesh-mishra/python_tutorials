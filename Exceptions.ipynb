{
 "cells": [
  {
   "cell_type": "markdown",
   "id": "fe0e98a2",
   "metadata": {
    "slideshow": {
     "slide_type": "slide"
    }
   },
   "source": [
    "# Exceptions / Error Handling"
   ]
  },
  {
   "cell_type": "markdown",
   "id": "7e41d430",
   "metadata": {
    "slideshow": {
     "slide_type": "subslide"
    }
   },
   "source": [
    "## `try` and `except` block"
   ]
  },
  {
   "cell_type": "code",
   "execution_count": null,
   "id": "cd7a1fb9",
   "metadata": {
    "slideshow": {
     "slide_type": "fragment"
    }
   },
   "outputs": [],
   "source": []
  },
  {
   "cell_type": "markdown",
   "id": "00c3b8ea",
   "metadata": {
    "slideshow": {
     "slide_type": "notes"
    }
   },
   "source": [
    "- example\n",
    "```\n",
    "try:\n",
    "    f = open('testfile.txt')\n",
    "    var = bad_var\n",
    "except FileNotFoundError as e:\n",
    "    print('File not found')\n",
    "    print(e)\n",
    "except Exception as e:\n",
    "    print('Something went wrong')\n",
    "    print(e)\n",
    "```"
   ]
  },
  {
   "cell_type": "markdown",
   "id": "e2b107bb",
   "metadata": {
    "slideshow": {
     "slide_type": "subslide"
    }
   },
   "source": [
    "## `else` block"
   ]
  },
  {
   "cell_type": "code",
   "execution_count": null,
   "id": "4329dc47",
   "metadata": {
    "slideshow": {
     "slide_type": "fragment"
    }
   },
   "outputs": [],
   "source": [
    "try:\n",
    "    f = open('testfile.txt')\n",
    "except FileNotFoundError as e:\n",
    "    print('File not found')\n",
    "    print(e)\n",
    "except Exception as e:\n",
    "    print('Something went wrong')\n",
    "    print(e)"
   ]
  },
  {
   "cell_type": "markdown",
   "id": "e5e41fa8",
   "metadata": {
    "slideshow": {
     "slide_type": "notes"
    }
   },
   "source": [
    "- example\n",
    "```\n",
    "try:\n",
    "    f = open('testfile.txt')\n",
    "except FileNotFoundError as e:\n",
    "    print('File not found')\n",
    "    print(e)\n",
    "except Exception as e:\n",
    "    print('Something went wrong')\n",
    "    print(e)\n",
    "else:\n",
    "    print(f.read())\n",
    "    f.close()\n",
    "```"
   ]
  },
  {
   "cell_type": "markdown",
   "id": "5d7ba283",
   "metadata": {
    "slideshow": {
     "slide_type": "subslide"
    }
   },
   "source": [
    "## `finally` block"
   ]
  },
  {
   "cell_type": "code",
   "execution_count": null,
   "id": "b1faf4a6",
   "metadata": {
    "slideshow": {
     "slide_type": "fragment"
    }
   },
   "outputs": [],
   "source": [
    "try:\n",
    "    f = open('testfile.txt')\n",
    "except FileNotFoundError as e:\n",
    "    print('File not found')\n",
    "    print(e)\n",
    "except Exception as e:\n",
    "    print('Something went wrong')\n",
    "    print(e)\n",
    "else:\n",
    "    print(f.read())\n",
    "    f.close()"
   ]
  },
  {
   "cell_type": "markdown",
   "id": "517f7fc9",
   "metadata": {
    "slideshow": {
     "slide_type": "notes"
    }
   },
   "source": [
    "- example\n",
    "```\n",
    "try:\n",
    "    f = open('testfile.txt')\n",
    "except FileNotFoundError as e:\n",
    "    print('File not found')\n",
    "    print(e)\n",
    "except Exception as e:\n",
    "    print('Something went wrong')\n",
    "    print(e)\n",
    "else:\n",
    "    print(f.read())\n",
    "finally:\n",
    "    f.close()\n",
    "    print('finally block runs all the time')\n",
    "```"
   ]
  },
  {
   "cell_type": "markdown",
   "id": "a923486a",
   "metadata": {
    "slideshow": {
     "slide_type": "subslide"
    }
   },
   "source": [
    "## `raise` keyword"
   ]
  },
  {
   "cell_type": "code",
   "execution_count": 17,
   "id": "eedfa3b9",
   "metadata": {
    "slideshow": {
     "slide_type": "fragment"
    }
   },
   "outputs": [],
   "source": [
    "try:\n",
    "    f = open('test.txt')\n",
    "except Exception as e:\n",
    "    print('Something went wrong')"
   ]
  },
  {
   "cell_type": "markdown",
   "id": "255015f0",
   "metadata": {
    "slideshow": {
     "slide_type": "notes"
    }
   },
   "source": [
    "- example\n",
    "```\n",
    "# !echo \"bad file.\" > test.txt && cat test.txt\n",
    "try:\n",
    "    f = open('testfile.txt')\n",
    "    if 'bad' in f.read():\n",
    "        raise Exception\n",
    "except Exception as e:\n",
    "    print('Something went wrong')\n",
    "```"
   ]
  },
  {
   "cell_type": "markdown",
   "id": "24b2105b",
   "metadata": {
    "slideshow": {
     "slide_type": "subslide"
    }
   },
   "source": [
    "## Thank You\n",
    "Do you have any questions?"
   ]
  }
 ],
 "metadata": {
  "celltoolbar": "Slideshow",
  "kernelspec": {
   "display_name": "Python 3 (ipykernel)",
   "language": "python",
   "name": "python3"
  },
  "language_info": {
   "codemirror_mode": {
    "name": "ipython",
    "version": 3
   },
   "file_extension": ".py",
   "mimetype": "text/x-python",
   "name": "python",
   "nbconvert_exporter": "python",
   "pygments_lexer": "ipython3",
   "version": "3.8.9"
  },
  "rise": {
   "auto_select": "code",
   "enable_chalkboard": true,
   "start_slideshow_at": "beginning"
  }
 },
 "nbformat": 4,
 "nbformat_minor": 5
}
