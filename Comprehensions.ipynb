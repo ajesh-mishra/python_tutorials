{
 "cells": [
  {
   "cell_type": "markdown",
   "id": "e1cb1eae",
   "metadata": {
    "slideshow": {
     "slide_type": "slide"
    }
   },
   "source": [
    "# Comprehensions"
   ]
  },
  {
   "cell_type": "markdown",
   "id": "5257b9e9",
   "metadata": {
    "slideshow": {
     "slide_type": "subslide"
    }
   },
   "source": [
    "## List Comprehensions"
   ]
  },
  {
   "cell_type": "code",
   "execution_count": null,
   "id": "8e8b6546",
   "metadata": {
    "slideshow": {
     "slide_type": "fragment"
    }
   },
   "outputs": [],
   "source": [
    "nums = [1, 2, 3, 4, 5]"
   ]
  },
  {
   "cell_type": "markdown",
   "id": "bb2ebddc",
   "metadata": {
    "slideshow": {
     "slide_type": "notes"
    }
   },
   "source": [
    "- Create a new list from `nums`: `new_list = [n for n in nums]`\n",
    "- Create `new_list` where numbers are squared: `new_list = [n * n for n in nums]`\n",
    "- Create `new_list` with only even `nums`: `new_list = [n for n in nums if n % 2 == 0]`\n",
    "- Nested example: `new_list = [n + t for t in 'ABC' for n in '123']`"
   ]
  },
  {
   "cell_type": "markdown",
   "id": "a0c00cf3",
   "metadata": {
    "slideshow": {
     "slide_type": "subslide"
    }
   },
   "source": [
    "## Dictionary Comprehensions"
   ]
  },
  {
   "cell_type": "code",
   "execution_count": null,
   "id": "6ba9f019",
   "metadata": {
    "slideshow": {
     "slide_type": "fragment"
    }
   },
   "outputs": [],
   "source": [
    "first_name = ['Peter', 'Wade', 'Bruce', 'Octo', 'Pepper']\n",
    "last_name = ['Parker', 'Wilson', 'Banner', 'Octavious', 'Pots']"
   ]
  },
  {
   "cell_type": "code",
   "execution_count": null,
   "id": "4e7b8324",
   "metadata": {
    "slideshow": {
     "slide_type": "notes"
    }
   },
   "outputs": [],
   "source": [
    "# example\n",
    "\n",
    "full_name = {}\n",
    "for fn, ln in zip(first_name, last_name):\n",
    "    full_name[fn] = ln\n",
    "\n",
    "print(full_name)\n",
    "\n",
    "full_name = {fn: ln for fn, ln in zip(first_name, last_name)}"
   ]
  },
  {
   "cell_type": "code",
   "execution_count": null,
   "id": "02fc04ca",
   "metadata": {
    "slideshow": {
     "slide_type": "notes"
    }
   },
   "outputs": [],
   "source": [
    "# example: adding conditionals\n",
    "full_name = {fn: ln for fn, ln in zip(first_name, last_name) if fn[0] == ln[0]}"
   ]
  },
  {
   "cell_type": "markdown",
   "id": "a0a9e9c4",
   "metadata": {
    "slideshow": {
     "slide_type": "subslide"
    }
   },
   "source": [
    "## Set Comprehensions"
   ]
  },
  {
   "cell_type": "code",
   "execution_count": null,
   "id": "dd19f089",
   "metadata": {
    "slideshow": {
     "slide_type": "fragment"
    }
   },
   "outputs": [],
   "source": [
    "nums = [1, 2, 3, 2, 4, 4, 5, 5]"
   ]
  },
  {
   "cell_type": "code",
   "execution_count": null,
   "id": "9334851f",
   "metadata": {
    "slideshow": {
     "slide_type": "notes"
    }
   },
   "outputs": [],
   "source": [
    "# example\n",
    "\n",
    "my_set = set()\n",
    "for num in nums:\n",
    "    my_set.add(num)\n",
    "my_set\n",
    "\n",
    "\n",
    "my_set = {num for num in nums}"
   ]
  },
  {
   "cell_type": "markdown",
   "id": "c0094acd",
   "metadata": {
    "slideshow": {
     "slide_type": "subslide"
    }
   },
   "source": [
    "## Not Tuple Comprehensions"
   ]
  },
  {
   "cell_type": "code",
   "execution_count": null,
   "id": "b4470b4b",
   "metadata": {
    "slideshow": {
     "slide_type": "fragment"
    }
   },
   "outputs": [],
   "source": [
    "nums = [1, 2, 3, 2, 4, 4, 5, 5]"
   ]
  },
  {
   "cell_type": "markdown",
   "id": "0117cde9",
   "metadata": {
    "slideshow": {
     "slide_type": "subslide"
    }
   },
   "source": [
    "## Generators"
   ]
  },
  {
   "cell_type": "code",
   "execution_count": null,
   "id": "ccb1fd2b",
   "metadata": {
    "slideshow": {
     "slide_type": "fragment"
    }
   },
   "outputs": [],
   "source": [
    "def square_numbers(nums):\n",
    "    result = []\n",
    "    for num in nums:\n",
    "        result.append(num * num)\n",
    "    return result\n",
    "nums = [1, 2, 3, 4, 5]\n",
    "squared_nums = square_numbers(nums)\n",
    "print(squared_nums)"
   ]
  },
  {
   "cell_type": "code",
   "execution_count": null,
   "id": "fc9f9089",
   "metadata": {
    "slideshow": {
     "slide_type": "notes"
    }
   },
   "outputs": [],
   "source": [
    "# example\n",
    "\n",
    "def square_numbers(nums):\n",
    "    for num in nums:\n",
    "        yield(num * num)\n",
    "squared_nums = square_numbers([1, 2, 3, 4, 5])\n",
    "print(next(squared_nums))\n",
    "for num in squared_nums:\n",
    "    print(num)"
   ]
  },
  {
   "cell_type": "code",
   "execution_count": null,
   "id": "048f8f87",
   "metadata": {
    "slideshow": {
     "slide_type": "notes"
    }
   },
   "outputs": [],
   "source": [
    "# example\n",
    "\n",
    "nums = [1, 2, 3, 4, 5]\n",
    "squared_nums = (num * num for num in nums)\n",
    "print(next(nums))"
   ]
  },
  {
   "cell_type": "markdown",
   "id": "03cbc49d",
   "metadata": {
    "slideshow": {
     "slide_type": "subslide"
    }
   },
   "source": [
    "## Thank You\n",
    "Do you have any questions?"
   ]
  }
 ],
 "metadata": {
  "celltoolbar": "Slideshow",
  "kernelspec": {
   "display_name": "Python 3 (ipykernel)",
   "language": "python",
   "name": "python3"
  },
  "language_info": {
   "codemirror_mode": {
    "name": "ipython",
    "version": 3
   },
   "file_extension": ".py",
   "mimetype": "text/x-python",
   "name": "python",
   "nbconvert_exporter": "python",
   "pygments_lexer": "ipython3",
   "version": "3.8.9"
  },
  "rise": {
   "auto_select": "code",
   "enable_chalkboard": true,
   "start_slideshow_at": "beginning"
  }
 },
 "nbformat": 4,
 "nbformat_minor": 5
}
