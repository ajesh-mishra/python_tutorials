{
 "cells": [
  {
   "cell_type": "markdown",
   "id": "d4c43243",
   "metadata": {},
   "source": [
    "# Module"
   ]
  },
  {
   "cell_type": "markdown",
   "id": "2ac3110a",
   "metadata": {},
   "source": [
    "## Custom Modules"
   ]
  },
  {
   "cell_type": "code",
   "execution_count": null,
   "id": "44117d08",
   "metadata": {},
   "outputs": [],
   "source": [
    "import my_module\n",
    "import my_module as mm\n",
    "from my_module import add, sub, mul\n",
    "from my_module import *"
   ]
  },
  {
   "cell_type": "markdown",
   "id": "99b40992",
   "metadata": {},
   "source": [
    "## Path Resolution"
   ]
  },
  {
   "cell_type": "markdown",
   "id": "ff54067d",
   "metadata": {},
   "source": [
    "Path Resolution `print(sys.path)`\n",
    "- Directory the script is in\n",
    "- Python Path Environment Variable\n",
    "- Standard Library\n",
    "- site-packages"
   ]
  },
  {
   "cell_type": "code",
   "execution_count": 4,
   "id": "06c4ae6a",
   "metadata": {},
   "outputs": [
    {
     "name": "stdout",
     "output_type": "stream",
     "text": [
      "/Users/ajesh/python_tutorials\n",
      "/Library/Developer/CommandLineTools/Library/Frameworks/Python3.framework/Versions/3.8/lib/python38.zip\n",
      "/Library/Developer/CommandLineTools/Library/Frameworks/Python3.framework/Versions/3.8/lib/python3.8\n",
      "/Library/Developer/CommandLineTools/Library/Frameworks/Python3.framework/Versions/3.8/lib/python3.8/lib-dynload\n",
      "\n",
      "/Users/ajesh/Library/Python/3.8/lib/python/site-packages\n",
      "/Library/Developer/CommandLineTools/Library/Frameworks/Python3.framework/Versions/3.8/lib/python3.8/site-packages\n"
     ]
    }
   ],
   "source": [
    "import sys\n",
    "for path in sys.path:\n",
    "    print(path)"
   ]
  },
  {
   "cell_type": "markdown",
   "id": "f9b64bd8",
   "metadata": {},
   "source": [
    "## Updating Path Variable"
   ]
  },
  {
   "cell_type": "code",
   "execution_count": null,
   "id": "fe326f68",
   "metadata": {},
   "outputs": [],
   "source": [
    "~/.bash_profile\n",
    "export PYTHONPATH=\"/Users/ajesh/\""
   ]
  },
  {
   "cell_type": "markdown",
   "id": "9d6dca11",
   "metadata": {},
   "source": [
    "## Standard Library"
   ]
  },
  {
   "cell_type": "code",
   "execution_count": 3,
   "id": "ea665423",
   "metadata": {},
   "outputs": [
    {
     "name": "stdout",
     "output_type": "stream",
     "text": [
      "/Users/ajesh/python_tutorials\n",
      "/Library/Developer/CommandLineTools/Library/Frameworks/Python3.framework/Versions/3.8/lib/python3.8/os.py\n"
     ]
    }
   ],
   "source": [
    "import os\n",
    "print(os.getcwd())\n",
    "print(os.__file__)"
   ]
  },
  {
   "cell_type": "code",
   "execution_count": null,
   "id": "60b55f40",
   "metadata": {},
   "outputs": [],
   "source": []
  }
 ],
 "metadata": {
  "kernelspec": {
   "display_name": "Python 3 (ipykernel)",
   "language": "python",
   "name": "python3"
  },
  "language_info": {
   "codemirror_mode": {
    "name": "ipython",
    "version": 3
   },
   "file_extension": ".py",
   "mimetype": "text/x-python",
   "name": "python",
   "nbconvert_exporter": "python",
   "pygments_lexer": "ipython3",
   "version": "3.8.9"
  }
 },
 "nbformat": 4,
 "nbformat_minor": 5
}
