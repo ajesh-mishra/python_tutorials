{
 "cells": [
  {
   "cell_type": "markdown",
   "id": "76e76db4",
   "metadata": {
    "slideshow": {
     "slide_type": "slide"
    }
   },
   "source": [
    "# RegEx"
   ]
  },
  {
   "cell_type": "markdown",
   "id": "d2d64779",
   "metadata": {
    "slideshow": {
     "slide_type": "fragment"
    }
   },
   "source": [
    "Regular expressions are combinations of special character operators, which you can use to construct search strings for advanced find and/or replace searches."
   ]
  },
  {
   "cell_type": "markdown",
   "id": "81fe25e2",
   "metadata": {
    "slideshow": {
     "slide_type": "subslide"
    }
   },
   "source": [
    "## Raw String"
   ]
  },
  {
   "cell_type": "code",
   "execution_count": null,
   "id": "6386362c",
   "metadata": {
    "slideshow": {
     "slide_type": "fragment"
    }
   },
   "outputs": [],
   "source": []
  },
  {
   "cell_type": "code",
   "execution_count": null,
   "id": "11b38ec8",
   "metadata": {
    "slideshow": {
     "slide_type": "notes"
    }
   },
   "outputs": [],
   "source": [
    "print('\\tTab')\n",
    "print(r'\\tTab')"
   ]
  },
  {
   "cell_type": "markdown",
   "id": "8e160905",
   "metadata": {
    "slideshow": {
     "slide_type": "subslide"
    }
   },
   "source": [
    "## `re` module"
   ]
  },
  {
   "cell_type": "code",
   "execution_count": null,
   "id": "978c81dc",
   "metadata": {
    "slideshow": {
     "slide_type": "fragment"
    }
   },
   "outputs": [],
   "source": [
    "# Meta Characters (Need to be escaped):\n",
    "# . ^ $ * + ? { } [ ] \\ | ( )\n",
    "\n",
    "text = '''\n",
    "abcdefghijklmnopqrstuvwxyz\n",
    "ABCDEFGHIJKLMNOPQRSTUVWXYZ\n",
    "1234567890\n",
    "\n",
    "google.com\n",
    "John Smith, John.Smith@email.com\n",
    "Miles Morales, miles-morales@company.com\n",
    "Jason Statham | Jason_Statham@invalid.email\n",
    "Ajesh\n",
    "\n",
    "321-555-4321\n",
    "123.555.1234\n",
    "837 782 8289\n",
    "\n",
    "+91-6531538389\n",
    "+91-6629829282\n",
    "+91-6282697291\n",
    "+91-7296726290\n",
    "+91-7948006281\n",
    "+91 9289668297\n",
    "+91 9289667338\n",
    "\n",
    "Mr. Schafer\n",
    "Mr Johnson\n",
    "Mrs. Robinson\n",
    "Ms Davis\n",
    "Mr. T\n",
    "\n",
    "https://www.google.com\n",
    "http://youtube.com\n",
    "https://github.io\n",
    "https://www.nasa.gov\n",
    "'''"
   ]
  },
  {
   "cell_type": "code",
   "execution_count": null,
   "id": "ac1d3d37",
   "metadata": {
    "slideshow": {
     "slide_type": "notes"
    }
   },
   "outputs": [],
   "source": [
    "# text.find('abc')\n",
    "\n",
    "import re\n",
    "# pattern = re.compile(r'\\bStatham')\n",
    "\n",
    "# Matching the Phone Number\n",
    "# pattern = re.compile(r'\\d\\d\\d.\\d\\d\\d.\\d\\d\\d\\d')\n",
    "# pattern = re.compile(r'\\d{3}.\\d{3}.\\d{4}')\n",
    "# pattern = re.compile(r'\\d{3}[-. ]\\d{3}[-. ]\\d{4}')\n",
    "\n",
    "# Matching Indian Phone Numbers\n",
    "# pattern = re.compile(r'\\+91.\\d{10}')\n",
    "\n",
    "# Matching all the Emails, start with the domain and subdomain\n",
    "# pattern = re.compile(r'\\w*.\\w*@\\w*\\.\\w*')\n",
    "\n",
    "# Matching the names\n",
    "pattern = re.compile(r'(Mr|Ms|Mrs)\\.?\\s[A-Z]\\w*')\n",
    "\n",
    "# Match the URL\n",
    "pattern = re.compile(r'https?://(www\\.)?(\\w+)(\\.\\w+)')\n",
    "matches = pattern.finditer(text)\n",
    "for match in matches:\n",
    "    print(match)\n",
    "    print(match.group(3))\n",
    "    \n",
    "    \n",
    "# pattern = re.compile(r'com$')\n",
    "# for line in text.split('\\n'):\n",
    "#     if pattern.findall(line):\n",
    "#         print(line)"
   ]
  },
  {
   "cell_type": "markdown",
   "id": "31affb84",
   "metadata": {
    "slideshow": {
     "slide_type": "subslide"
    }
   },
   "source": [
    "Special Characters:\n",
    "- `.` any character\n",
    "- `\\d` digit from 0 to 9\n",
    "- `\\D` Not a digit\n",
    "- `\\w` (a-z, A-Z, 0-9, _)\n",
    "- `\\W` Not a word character\n",
    "- `\\s` Whitespace (space, tab, newline)\n",
    "- `\\S` Not a whitespace"
   ]
  },
  {
   "cell_type": "markdown",
   "id": "c50cef66",
   "metadata": {
    "slideshow": {
     "slide_type": "subslide"
    }
   },
   "source": [
    "Anchors:\n",
    "- `\\b` Word Boundary\n",
    "- `\\B` Not a Word Boundary\n",
    "- `^` Beginning of a String\n",
    "- `$` End of a String\n",
    "- Character set `[]`"
   ]
  },
  {
   "cell_type": "markdown",
   "id": "ff2fbe97",
   "metadata": {
    "slideshow": {
     "slide_type": "subslide"
    }
   },
   "source": [
    "Quantifiers\n",
    "- `*` 0 or More\n",
    "- `+` 1 or More\n",
    "- `?` 0 or 1\n",
    "- `{3}` Exact 3\n",
    "- `{3,4}` Range of numbers (minimum, maximum)"
   ]
  },
  {
   "cell_type": "markdown",
   "id": "5c01f36c",
   "metadata": {
    "slideshow": {
     "slide_type": "subslide"
    }
   },
   "source": [
    "## Thank You\n",
    "Do you have any questions?"
   ]
  }
 ],
 "metadata": {
  "celltoolbar": "Slideshow",
  "kernelspec": {
   "display_name": "Python 3 (ipykernel)",
   "language": "python",
   "name": "python3"
  },
  "language_info": {
   "codemirror_mode": {
    "name": "ipython",
    "version": 3
   },
   "file_extension": ".py",
   "mimetype": "text/x-python",
   "name": "python",
   "nbconvert_exporter": "python",
   "pygments_lexer": "ipython3",
   "version": "3.8.9"
  }
 },
 "nbformat": 4,
 "nbformat_minor": 5
}
