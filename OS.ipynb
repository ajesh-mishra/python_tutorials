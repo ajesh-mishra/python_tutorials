{
 "cells": [
  {
   "cell_type": "markdown",
   "id": "72bc563b",
   "metadata": {},
   "source": [
    "# Operating System"
   ]
  },
  {
   "cell_type": "code",
   "execution_count": 13,
   "id": "334902f3",
   "metadata": {},
   "outputs": [
    {
     "name": "stdout",
     "output_type": "stream",
     "text": [
      "os.stat_result(st_mode=33188, st_ino=10577257, st_dev=16777234, st_nlink=1, st_uid=501, st_gid=20, st_size=898, st_atime=1675398269, st_mtime=1675171883, st_ctime=1675398268)\n",
      "1675171883.2043347\n",
      "2023-01-31 19:01:23.204335\n"
     ]
    }
   ],
   "source": [
    "import os\n",
    "# print(os.getcwd())\n",
    "\n",
    "# Change Directory\n",
    "# os.chdir('/Users/ajesh/Downloads')\n",
    "# print(os.getcwd())\n",
    "\n",
    "# Make Directory\n",
    "# os.mkdir('/Users/ajesh/demo/test')\n",
    "\n",
    "# Remove Directory\n",
    "# os.rmdir('/Users/ajesh/demo/test')\n",
    "\n",
    "# Rename Files\n",
    "# os.chdir('/Users/ajesh/demo')\n",
    "# os.rename('test.py', 'test_1.py')\n",
    "\n",
    "# Statistics\n",
    "print(os.stat('/Users/ajesh/demo/test_1.py'))\n",
    "print(os.stat('/Users/ajesh/demo/test_1.py').st_mtime)\n",
    "from datetime import datetime\n",
    "mod_time = os.stat('/Users/ajesh/demo/test_1.py').st_mtime\n",
    "print(datetime.fromtimestamp(mod_time))"
   ]
  },
  {
   "cell_type": "code",
   "execution_count": null,
   "id": "9867f2d9",
   "metadata": {},
   "outputs": [],
   "source": []
  }
 ],
 "metadata": {
  "kernelspec": {
   "display_name": "Python 3 (ipykernel)",
   "language": "python",
   "name": "python3"
  },
  "language_info": {
   "codemirror_mode": {
    "name": "ipython",
    "version": 3
   },
   "file_extension": ".py",
   "mimetype": "text/x-python",
   "name": "python",
   "nbconvert_exporter": "python",
   "pygments_lexer": "ipython3",
   "version": "3.8.9"
  }
 },
 "nbformat": 4,
 "nbformat_minor": 5
}
