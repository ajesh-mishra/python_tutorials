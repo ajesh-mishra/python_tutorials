{
 "cells": [
  {
   "cell_type": "markdown",
   "id": "8c2b9566",
   "metadata": {},
   "source": [
    "# SQLite"
   ]
  },
  {
   "cell_type": "code",
   "execution_count": null,
   "id": "5bef4f27",
   "metadata": {},
   "outputs": [],
   "source": [
    "import sqlite3\n",
    "from employee import Employee\n",
    "\n",
    "emp_1 = Employee('Ajesh', 'Mishra', 80000)\n",
    "emp_2 = Employee('Rohit', 'Mishra', 90000)\n",
    "\n",
    "# conn = sqlite3.connect('employee.db')\n",
    "conn = sqlite3.connect(':memory:')\n",
    "c = conn.cursor()\n",
    "\n",
    "c.execute('''CREATE TABLE employees (\n",
    "    first text,\n",
    "    last text,\n",
    "    pay integer\n",
    ")''')\n",
    "\n",
    "with conn:\n",
    "    c.execute('''INSERT INTO employees VALUES (:first, :last, :pay)''',\n",
    "              {'first': emp_1.first, 'last': emp_1.last, 'pay': emp_1.pay})\n",
    "\n",
    "with conn:\n",
    "    c.execute('''INSERT INTO employees VALUES (:first, :last, :pay)''',\n",
    "              {'first': emp_2.first, 'last': emp_2.last, 'pay': emp_2.pay})\n",
    "\n",
    "with conn:\n",
    "    c.execute('''UPDATE employees SET pay = :pay WHERE first = :first AND last = :last''', {\n",
    "              'first': emp_1.first, 'last': emp_1.last, 'pay': 85_000})\n",
    "\n",
    "with conn:\n",
    "    c.execute('''DELETE from employees WHERE first = :first AND last = :last''',\n",
    "              {'first': emp_1.first, 'last': emp_1.last})\n",
    "\n",
    "c.execute('''INSERT INTO employees VALUES ('Ajesh', 'Mishra', 50000)''')\n",
    "conn.commit()\n",
    "\n",
    "c.execute('''INSERT INTO employees VALUES ('Rohit', 'Mishra', 50000)''')\n",
    "conn.commit()\n",
    "\n",
    "\n",
    "# c.execute('''SELECT * FROM employees''')\n",
    "# c.execute('''SELECT * FROM employees WHERE last='Mishra' ''')\n",
    "c.execute('''SELECT * FROM employees WHERE last=:last''', {'last': 'Mishra'})\n",
    "\n",
    "# print(c.fetchone())\n",
    "print(c.fetchall())\n",
    "\n",
    "conn.commit()\n",
    "conn.close()\n"
   ]
  }
 ],
 "metadata": {
  "kernelspec": {
   "display_name": "Python 3 (ipykernel)",
   "language": "python",
   "name": "python3"
  },
  "language_info": {
   "codemirror_mode": {
    "name": "ipython",
    "version": 3
   },
   "file_extension": ".py",
   "mimetype": "text/x-python",
   "name": "python",
   "nbconvert_exporter": "python",
   "pygments_lexer": "ipython3",
   "version": "3.8.9"
  }
 },
 "nbformat": 4,
 "nbformat_minor": 5
}
