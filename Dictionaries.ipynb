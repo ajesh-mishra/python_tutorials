{
 "cells": [
  {
   "cell_type": "markdown",
   "id": "d92a6faf",
   "metadata": {},
   "source": [
    "# Dictionaries"
   ]
  },
  {
   "cell_type": "markdown",
   "id": "0d2b3c17",
   "metadata": {},
   "source": [
    "## Syntax"
   ]
  },
  {
   "cell_type": "code",
   "execution_count": 43,
   "id": "b0397b2c",
   "metadata": {},
   "outputs": [
    {
     "name": "stdout",
     "output_type": "stream",
     "text": [
      "0\n"
     ]
    }
   ],
   "source": [
    "student = {'name': 'John', 'courses': ['Math', 'Compsci']}\n",
    "print(student.get('age', 0))"
   ]
  },
  {
   "cell_type": "markdown",
   "id": "ae0a1ead",
   "metadata": {},
   "source": [
    "- example: `student = {'name': 'John', 'age': '25', 'courses': ['Math', 'Compsci']}`\n",
    "- How to acces elemets `print(student['courses'])`\n",
    "- Value can be any data type\n",
    "- Key can be any datatype as long as it is immutable\n",
    "- to check if the key exist lets put a wrong key\n",
    "- Access elements using `get`: `print(student.get('name'))`\n",
    "- `get` takes second argument which is default value: `print(student.get('phone', 'Not Found'))`"
   ]
  },
  {
   "cell_type": "markdown",
   "id": "2c014253",
   "metadata": {},
   "source": [
    "## Dictionary Operations"
   ]
  },
  {
   "cell_type": "markdown",
   "id": "9575626a",
   "metadata": {},
   "source": [
    "- Add, Update and Delete"
   ]
  },
  {
   "cell_type": "code",
   "execution_count": 47,
   "id": "a428f523",
   "metadata": {},
   "outputs": [],
   "source": [
    "student = {'name': 'John', 'age': '25', 'courses': ['Math', 'Compsci']}"
   ]
  },
  {
   "cell_type": "markdown",
   "id": "58635cbc",
   "metadata": {},
   "source": [
    "- Adding a new entry: `student['phone'] = '555-5555'`\n",
    "- Update multiple value: `student.update({'name':'Jane', 'age': 26, 'phone' : '555-5555' })\n",
    "- Delete a specific key: `del student['age']`"
   ]
  },
  {
   "cell_type": "code",
   "execution_count": 8,
   "id": "9510f3ae",
   "metadata": {},
   "outputs": [],
   "source": [
    "student = {'1': 'John', 'age': '25', 'courses': ['Math', 'Compsci']}"
   ]
  },
  {
   "cell_type": "markdown",
   "id": "48a8f74e",
   "metadata": {},
   "source": [
    "- another way pop method(it will remove but also return the value)\n",
    "- example: `age = student.pop('age')`\n",
    "- `print(student)`\n",
    "- `print(age)`\n",
    "    "
   ]
  },
  {
   "cell_type": "markdown",
   "id": "02a78c40",
   "metadata": {},
   "source": [
    "- to check how many keys"
   ]
  },
  {
   "cell_type": "markdown",
   "id": "6d3563c7",
   "metadata": {},
   "source": [
    "- example: `print(len(student))`"
   ]
  },
  {
   "cell_type": "code",
   "execution_count": null,
   "id": "20c6a5e8",
   "metadata": {},
   "outputs": [],
   "source": [
    "student = {'1': 'John', 'age': '25', 'courses': ['Math', 'Compsci']}"
   ]
  },
  {
   "cell_type": "markdown",
   "id": "5b471655",
   "metadata": {},
   "source": [
    "- to see all keys\n",
    "- example: `print(student.keys())`\n",
    "- to see values\n",
    "- example: `print(student.values())`\n",
    "- key & values\n",
    "- example: `print(student.items())`\n"
   ]
  },
  {
   "cell_type": "code",
   "execution_count": null,
   "id": "a15f2b7f",
   "metadata": {},
   "outputs": [],
   "source": [
    "student = {'1': 'John', 'age': '25', 'courses': ['Math', 'Compsci']}"
   ]
  },
  {
   "cell_type": "markdown",
   "id": "9f4d3413",
   "metadata": {},
   "source": [
    "- loop through all values\n",
    "- example: `for key in students:\n",
    "            print(key)`\n",
    "- loop through key & values            \n",
    "- example: `for key,value in students.items:\n",
    "            print(key, value)`            "
   ]
  },
  {
   "cell_type": "code",
   "execution_count": null,
   "id": "88938952",
   "metadata": {},
   "outputs": [],
   "source": []
  }
 ],
 "metadata": {
  "kernelspec": {
   "display_name": "Python 3 (ipykernel)",
   "language": "python",
   "name": "python3"
  },
  "language_info": {
   "codemirror_mode": {
    "name": "ipython",
    "version": 3
   },
   "file_extension": ".py",
   "mimetype": "text/x-python",
   "name": "python",
   "nbconvert_exporter": "python",
   "pygments_lexer": "ipython3",
   "version": "3.10.0"
  }
 },
 "nbformat": 4,
 "nbformat_minor": 5
}
