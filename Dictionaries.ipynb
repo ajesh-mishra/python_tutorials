{
 "cells": [
  {
   "cell_type": "markdown",
   "id": "d92a6faf",
   "metadata": {
    "slideshow": {
     "slide_type": "slide"
    }
   },
   "source": [
    "# Dictionaries"
   ]
  },
  {
   "cell_type": "markdown",
   "id": "0d2b3c17",
   "metadata": {
    "slideshow": {
     "slide_type": "subslide"
    }
   },
   "source": [
    "## Syntax"
   ]
  },
  {
   "cell_type": "code",
   "execution_count": null,
   "id": "b0397b2c",
   "metadata": {
    "slideshow": {
     "slide_type": "fragment"
    }
   },
   "outputs": [],
   "source": []
  },
  {
   "cell_type": "markdown",
   "id": "ae0a1ead",
   "metadata": {
    "slideshow": {
     "slide_type": "notes"
    }
   },
   "source": [
    "- example: `student = {'name': 'John', 'age': '25', 'courses': ['Math', 'Compsci']}`\n",
    "- How to acces elemets `print(student['courses'])`\n",
    "- Value can be any data type\n",
    "- Key can be any datatype as long as it is immutable\n",
    "- to check if the key exist lets put a wrong key\n",
    "- Access elements using `get`: `print(student.get('name'))`\n",
    "- `get` takes second argument which is default value: `print(student.get('phone', 'Not Found'))`"
   ]
  },
  {
   "cell_type": "markdown",
   "id": "2c014253",
   "metadata": {
    "slideshow": {
     "slide_type": "subslide"
    }
   },
   "source": [
    "## Dictionary Operations"
   ]
  },
  {
   "cell_type": "markdown",
   "id": "9575626a",
   "metadata": {
    "slideshow": {
     "slide_type": "fragment"
    }
   },
   "source": [
    "- Adding a New Key"
   ]
  },
  {
   "cell_type": "code",
   "execution_count": null,
   "id": "a428f523",
   "metadata": {
    "slideshow": {
     "slide_type": "fragment"
    }
   },
   "outputs": [],
   "source": [
    "student = {'name': 'John', 'age': 25, 'courses': ['Math', 'Compsci']}"
   ]
  },
  {
   "cell_type": "markdown",
   "id": "f1aa76c8",
   "metadata": {
    "slideshow": {
     "slide_type": "notes"
    }
   },
   "source": [
    "- Adding a new entry: `student['phone'] = '555-5555'`"
   ]
  },
  {
   "cell_type": "markdown",
   "id": "b7d7550e",
   "metadata": {
    "slideshow": {
     "slide_type": "fragment"
    }
   },
   "source": [
    "- Updating Existing Value"
   ]
  },
  {
   "cell_type": "code",
   "execution_count": null,
   "id": "94acc49d",
   "metadata": {
    "slideshow": {
     "slide_type": "fragment"
    }
   },
   "outputs": [],
   "source": [
    "student = {'name': 'John', 'age': 25, 'courses': ['Math', 'Compsci']}"
   ]
  },
  {
   "cell_type": "markdown",
   "id": "6e871683",
   "metadata": {
    "slideshow": {
     "slide_type": "notes"
    }
   },
   "source": [
    "- Update one value: `student['name'] = 'Jane'`\n",
    "- Update multiple value: `student.update({'name':'Jane', 'age': 26, 'phone' : '555-5555' })`"
   ]
  },
  {
   "cell_type": "markdown",
   "id": "3fd66da6",
   "metadata": {
    "slideshow": {
     "slide_type": "subslide"
    }
   },
   "source": [
    "## Dictionary Operations"
   ]
  },
  {
   "cell_type": "markdown",
   "id": "a83ddcb2",
   "metadata": {
    "slideshow": {
     "slide_type": "fragment"
    }
   },
   "source": [
    "- Delete a Key"
   ]
  },
  {
   "cell_type": "code",
   "execution_count": null,
   "id": "9d390021",
   "metadata": {
    "slideshow": {
     "slide_type": "fragment"
    }
   },
   "outputs": [],
   "source": [
    "student = {'name': 'John', 'age': 25, 'courses': ['Math', 'Compsci']}"
   ]
  },
  {
   "cell_type": "markdown",
   "id": "23d4a2d5",
   "metadata": {
    "slideshow": {
     "slide_type": "notes"
    }
   },
   "source": [
    "- Delete a specific key: `del student['age']`"
   ]
  },
  {
   "cell_type": "markdown",
   "id": "6072ff12",
   "metadata": {
    "slideshow": {
     "slide_type": "fragment"
    }
   },
   "source": [
    "- Deleting Key: `pop`"
   ]
  },
  {
   "cell_type": "code",
   "execution_count": null,
   "id": "d26e131c",
   "metadata": {
    "slideshow": {
     "slide_type": "fragment"
    }
   },
   "outputs": [],
   "source": [
    "student = {'name': 'John', 'age': 25, 'courses': ['Math', 'Compsci']}"
   ]
  },
  {
   "cell_type": "markdown",
   "id": "58635cbc",
   "metadata": {
    "slideshow": {
     "slide_type": "notes"
    }
   },
   "source": [
    "- Another way to delete is with `pop` method: `age = student.pop('age')`\n",
    "- `pop` will actually return the value"
   ]
  },
  {
   "cell_type": "markdown",
   "id": "20444111",
   "metadata": {
    "slideshow": {
     "slide_type": "subslide"
    }
   },
   "source": [
    "## Dictionary Operations"
   ]
  },
  {
   "cell_type": "markdown",
   "id": "02a78c40",
   "metadata": {
    "slideshow": {
     "slide_type": "fragment"
    }
   },
   "source": [
    "- Checking Length: `len`"
   ]
  },
  {
   "cell_type": "code",
   "execution_count": null,
   "id": "20c6a5e8",
   "metadata": {
    "slideshow": {
     "slide_type": "fragment"
    }
   },
   "outputs": [],
   "source": [
    "student = {'1': 'John', 'age': '25', 'courses': ['Math', 'Compsci']}"
   ]
  },
  {
   "cell_type": "markdown",
   "id": "6d3563c7",
   "metadata": {
    "slideshow": {
     "slide_type": "notes"
    }
   },
   "source": [
    "- example: `print(len(student))`"
   ]
  },
  {
   "cell_type": "markdown",
   "id": "5d92d6c1",
   "metadata": {
    "slideshow": {
     "slide_type": "fragment"
    }
   },
   "source": [
    "- Getting all: `keys` and `values`"
   ]
  },
  {
   "cell_type": "code",
   "execution_count": null,
   "id": "6cee866b",
   "metadata": {
    "slideshow": {
     "slide_type": "fragment"
    }
   },
   "outputs": [],
   "source": [
    "student = {'1': 'John', 'age': '25', 'courses': ['Math', 'Compsci']}"
   ]
  },
  {
   "cell_type": "markdown",
   "id": "5b471655",
   "metadata": {
    "slideshow": {
     "slide_type": "notes"
    }
   },
   "source": [
    "- Get all keys: `print(student.keys())`\n",
    "- Get all values: `print(student.values())`\n",
    "- Both `key` & `values`: `print(student.items())`"
   ]
  },
  {
   "cell_type": "markdown",
   "id": "73ec9cf2",
   "metadata": {
    "slideshow": {
     "slide_type": "subslide"
    }
   },
   "source": [
    "## Looping through `dict`: `for`"
   ]
  },
  {
   "cell_type": "code",
   "execution_count": 1,
   "id": "a15f2b7f",
   "metadata": {
    "slideshow": {
     "slide_type": "fragment"
    }
   },
   "outputs": [],
   "source": [
    "student = {'1': 'John', 'age': '25', 'courses': ['Math', 'Compsci']}"
   ]
  },
  {
   "cell_type": "code",
   "execution_count": null,
   "id": "af33cfc2",
   "metadata": {
    "slideshow": {
     "slide_type": "notes"
    }
   },
   "outputs": [],
   "source": [
    "for key in student:\n",
    "    print(key)\n",
    "\n",
    "for values in student.values():\n",
    "    print(values)\n",
    "\n",
    "for key, values in student.items():\n",
    "    print(key, values)"
   ]
  },
  {
   "cell_type": "markdown",
   "id": "f206cd60",
   "metadata": {
    "slideshow": {
     "slide_type": "subslide"
    }
   },
   "source": [
    "## Conclusion"
   ]
  },
  {
   "cell_type": "markdown",
   "id": "8d70d946",
   "metadata": {
    "cell_style": "split",
    "slideshow": {
     "slide_type": "fragment"
    }
   },
   "source": [
    "- Syntax"
   ]
  },
  {
   "cell_type": "markdown",
   "id": "91c7f5a5",
   "metadata": {
    "cell_style": "split",
    "slideshow": {
     "slide_type": "fragment"
    }
   },
   "source": [
    "- Access Elements"
   ]
  },
  {
   "cell_type": "markdown",
   "id": "1f0c0110",
   "metadata": {
    "cell_style": "split",
    "slideshow": {
     "slide_type": "fragment"
    }
   },
   "source": [
    "- Access Elements with `get`"
   ]
  },
  {
   "cell_type": "markdown",
   "id": "f7a63a01",
   "metadata": {
    "cell_style": "split",
    "slideshow": {
     "slide_type": "fragment"
    }
   },
   "source": [
    "- Adding New `key`"
   ]
  },
  {
   "cell_type": "markdown",
   "id": "100046b4",
   "metadata": {
    "cell_style": "split",
    "slideshow": {
     "slide_type": "fragment"
    }
   },
   "source": [
    "- Updating Existing `value`"
   ]
  },
  {
   "cell_type": "markdown",
   "id": "fd6d38f5",
   "metadata": {
    "cell_style": "split",
    "slideshow": {
     "slide_type": "fragment"
    }
   },
   "source": [
    "- Deleting `key`"
   ]
  },
  {
   "cell_type": "markdown",
   "id": "2cfd9d00",
   "metadata": {
    "cell_style": "split",
    "slideshow": {
     "slide_type": "fragment"
    }
   },
   "source": [
    "- Deleting `key` with `pop`"
   ]
  },
  {
   "cell_type": "markdown",
   "id": "7ff9ec68",
   "metadata": {
    "cell_style": "split",
    "slideshow": {
     "slide_type": "fragment"
    }
   },
   "source": [
    "- Length of `dict` with `len`"
   ]
  },
  {
   "cell_type": "markdown",
   "id": "d9559ffd",
   "metadata": {
    "cell_style": "split",
    "slideshow": {
     "slide_type": "fragment"
    }
   },
   "source": [
    "- Getting `keys`, `values` and `items`"
   ]
  },
  {
   "cell_type": "markdown",
   "id": "915d63a2",
   "metadata": {
    "cell_style": "split",
    "slideshow": {
     "slide_type": "fragment"
    }
   },
   "source": [
    "- Using `for` loops to iterate"
   ]
  },
  {
   "cell_type": "markdown",
   "id": "b9843d48",
   "metadata": {
    "slideshow": {
     "slide_type": "subslide"
    }
   },
   "source": [
    "## Thank You\n",
    "Do you have any questions?"
   ]
  }
 ],
 "metadata": {
  "celltoolbar": "Slideshow",
  "kernelspec": {
   "display_name": "Python 3 (ipykernel)",
   "language": "python",
   "name": "python3"
  },
  "language_info": {
   "codemirror_mode": {
    "name": "ipython",
    "version": 3
   },
   "file_extension": ".py",
   "mimetype": "text/x-python",
   "name": "python",
   "nbconvert_exporter": "python",
   "pygments_lexer": "ipython3",
   "version": "3.8.9"
  },
  "rise": {
   "auto_select": "code",
   "enable_chalkboard": true,
   "start_slideshow_at": "beginning"
  }
 },
 "nbformat": 4,
 "nbformat_minor": 5
}
