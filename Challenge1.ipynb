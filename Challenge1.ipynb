{
 "cells": [
  {
   "cell_type": "markdown",
   "id": "25d0f161",
   "metadata": {
    "slideshow": {
     "slide_type": "slide"
    }
   },
   "source": [
    "# Coding Challenge"
   ]
  },
  {
   "cell_type": "markdown",
   "id": "9afa729a",
   "metadata": {
    "cell_style": "split",
    "slideshow": {
     "slide_type": "subslide"
    }
   },
   "source": [
    "## Palindrome\n",
    "A number is palindrome if the digits from left to right is same as digits from right to left.\n",
    "- Example of Palindrome: 1221, 12321, 11"
   ]
  },
  {
   "cell_type": "code",
   "execution_count": null,
   "id": "f861100f",
   "metadata": {
    "cell_style": "split",
    "slideshow": {
     "slide_type": "fragment"
    }
   },
   "outputs": [],
   "source": [
    "def isPalindrome(x):\n",
    "    pass\n",
    "\n",
    "\n",
    "isPalindrome(1221)"
   ]
  },
  {
   "cell_type": "code",
   "execution_count": null,
   "id": "641d49cb",
   "metadata": {
    "slideshow": {
     "slide_type": "notes"
    }
   },
   "outputs": [],
   "source": [
    "def isPalindrome(x):\n",
    "    s = str(x)\n",
    "    return s == s[::-1]\n",
    "\n",
    "assert isPalindrome(1221)\n",
    "assert not isPalindrome(1222)"
   ]
  },
  {
   "cell_type": "markdown",
   "id": "f55af635",
   "metadata": {
    "cell_style": "split",
    "slideshow": {
     "slide_type": "subslide"
    }
   },
   "source": [
    "## Add One\n",
    "\n",
    "Given a large integer represented as an integer array digits, where each digits[i] is the ith digit of the integer.\n",
    "Increment the large integer by one and return the resulting array of digits.\n",
    "\n",
    "- example\n",
    "    - Input: digits = [1, 2, 3]\n",
    "    - Output: [1, 2, 4]\n",
    "\n",
    "- example\n",
    "    - Input: digits = [4, 3, 2, 1]\n",
    "    - Output: [4, 3, 2, 2]\n",
    "\n",
    "- example\n",
    "    - Input: digits = [9]\n",
    "    - Output: [1, 0]"
   ]
  },
  {
   "cell_type": "code",
   "execution_count": null,
   "id": "39d59b55",
   "metadata": {
    "cell_style": "split",
    "slideshow": {
     "slide_type": "fragment"
    }
   },
   "outputs": [],
   "source": [
    "def plusOne(digits):\n",
    "    pass\n",
    "    \n",
    "print(plusOne([4, 3, 2, 1]))"
   ]
  },
  {
   "cell_type": "code",
   "execution_count": null,
   "id": "44b05dca",
   "metadata": {
    "slideshow": {
     "slide_type": "notes"
    }
   },
   "outputs": [],
   "source": [
    "def plusOne(digits):\n",
    "    result = 0\n",
    "    for digit in digits:\n",
    "        result = (10 * result) + digit\n",
    "    \n",
    "    s = str(result + 1)\n",
    "    final_result = []\n",
    "    \n",
    "    for c in s:\n",
    "        final_result.append(int(c))\n",
    "        \n",
    "    return final_result\n",
    "\n",
    "\n",
    "assert plusOne([4, 3, 2, 1]) == [4, 3, 2, 2]\n",
    "assert plusOne([1, 2, 3]) == [1, 2, 4]\n",
    "assert plusOne([9]) == [1, 0]"
   ]
  },
  {
   "cell_type": "markdown",
   "id": "8297293d",
   "metadata": {
    "cell_style": "split",
    "slideshow": {
     "slide_type": "subslide"
    }
   },
   "source": [
    "## Length of Last Word\n",
    "Given a string s consisting of words and spaces, return the length of the last word in the string.\n",
    "- \"Hello World\" -> 5\n",
    "- \"   fly me   to   the moon  \" -> 4\n",
    "- \"luffy is still joyboy\" -> 6"
   ]
  },
  {
   "cell_type": "code",
   "execution_count": null,
   "id": "ebde531c",
   "metadata": {
    "cell_style": "split",
    "slideshow": {
     "slide_type": "fragment"
    }
   },
   "outputs": [],
   "source": [
    "def lengthOfLastWord(s):\n",
    "    pass\n",
    "\n",
    "\n",
    "assert lengthOfLastWord(\"Hello World\") == 5\n",
    "assert lengthOfLastWord(\"   fly me   to   the moon  \") == 4\n",
    "assert lengthOfLastWord(\"luffy is still joyboy\") == 6"
   ]
  },
  {
   "cell_type": "code",
   "execution_count": null,
   "id": "e78922eb",
   "metadata": {
    "slideshow": {
     "slide_type": "notes"
    }
   },
   "outputs": [],
   "source": [
    "def lengthOfLastWord(s):\n",
    "    s_list = s.split()\n",
    "    return len(s_list[-1])\n",
    "\n",
    "\n",
    "assert lengthOfLastWord(\"Hello World\") == 5\n",
    "assert lengthOfLastWord(\"   fly me   to   the moon  \") == 4\n",
    "assert lengthOfLastWord(\"luffy is still joyboy\") == 6"
   ]
  },
  {
   "cell_type": "markdown",
   "id": "3c56e217",
   "metadata": {
    "cell_style": "split",
    "slideshow": {
     "slide_type": "subslide"
    }
   },
   "source": [
    "## Goat Latin\n",
    "You are given a string sentence that consist of words separated by spaces. Each word consists of lowercase and uppercase letters only.\n",
    "\n",
    "We would like to convert the sentence to \"Goat Latin\" (a made-up language similar to Pig Latin.) The rules of Goat Latin are as follows:\n",
    "\n",
    "- If a word begins with a vowel ('a', 'e', 'i', 'o', or 'u'), append \"ma\" to the end of the word.\n",
    "> For example, the word \"apple\" becomes \"applema\".\n",
    "- If a word begins with a consonant (i.e., not a vowel), remove the first letter and append it to the end, then add \"ma\".\n",
    "> For example, the word \"goat\" becomes \"oatgma\".\n",
    "- Add one letter 'a' to the end of each word per its word index in the sentence, starting with 1.\n",
    "> For example, the first word gets \"a\" added to the end, the second word gets \"aa\" added to the end, and so on.\n",
    "\n",
    "Return the final sentence representing the conversion from sentence to Goat Latin."
   ]
  },
  {
   "cell_type": "code",
   "execution_count": null,
   "id": "33366eca",
   "metadata": {
    "cell_style": "split",
    "slideshow": {
     "slide_type": "fragment"
    }
   },
   "outputs": [],
   "source": [
    "def toGoatLatin(sentence):\n",
    "    pass\n",
    "\n",
    "\n",
    "assert toGoatLatin(\"I speak Goat Latin\") == \"Imaa peaksmaaa oatGmaaaa atinLmaaaaa\"\n",
    "assert toGoatLatin(\"The quick brown fox jumped over the lazy dog\") == \"heTmaa uickqmaaa rownbmaaaa oxfmaaaaa umpedjmaaaaaa overmaaaaaaa hetmaaaaaaaa azylmaaaaaaaaa ogdmaaaaaaaaaa\""
   ]
  },
  {
   "cell_type": "code",
   "execution_count": null,
   "id": "d4beeb5e",
   "metadata": {
    "slideshow": {
     "slide_type": "notes"
    }
   },
   "outputs": [],
   "source": [
    "def toGoatLatin(sentence):\n",
    "    vowels = ('a', 'e', 'i', 'o', 'u')\n",
    "    result = ''\n",
    "    \n",
    "    for index, word in enumerate(sentence.split(), 1):\n",
    "        if word[0].lower() in vowels:\n",
    "            result += f' {word}ma{\"a\" * index}'\n",
    "        else:\n",
    "            result += f' {word[1:]}{word[0]}ma{\"a\" * index}'\n",
    "\n",
    "    return result.strip()\n",
    "\n",
    "assert toGoatLatin(\"I speak Goat Latin\") == \"Imaa peaksmaaa oatGmaaaa atinLmaaaaa\"\n",
    "assert toGoatLatin(\"The quick brown fox jumped over the lazy dog\") == \"heTmaa uickqmaaa rownbmaaaa oxfmaaaaa umpedjmaaaaaa overmaaaaaaa hetmaaaaaaaa azylmaaaaaaaaa ogdmaaaaaaaaaa\""
   ]
  },
  {
   "cell_type": "markdown",
   "id": "738f2307",
   "metadata": {
    "slideshow": {
     "slide_type": "subslide"
    }
   },
   "source": [
    "## Thank You\n",
    "Do you have any questions?"
   ]
  }
 ],
 "metadata": {
  "celltoolbar": "Slideshow",
  "kernelspec": {
   "display_name": "Python 3 (ipykernel)",
   "language": "python",
   "name": "python3"
  },
  "language_info": {
   "codemirror_mode": {
    "name": "ipython",
    "version": 3
   },
   "file_extension": ".py",
   "mimetype": "text/x-python",
   "name": "python",
   "nbconvert_exporter": "python",
   "pygments_lexer": "ipython3",
   "version": "3.8.9"
  },
  "rise": {
   "auto_select": "code",
   "enable_chalkboard": true,
   "start_slideshow_at": "beginning"
  }
 },
 "nbformat": 4,
 "nbformat_minor": 5
}
