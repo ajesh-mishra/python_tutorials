{
 "cells": [
  {
   "cell_type": "markdown",
   "id": "d7431adb",
   "metadata": {},
   "source": [
    "# Conditionals and Booleans "
   ]
  },
  {
   "cell_type": "markdown",
   "id": "dc18e2b3",
   "metadata": {},
   "source": [
    "## Syntax "
   ]
  },
  {
   "cell_type": "markdown",
   "id": "6997fb33",
   "metadata": {},
   "source": [
    "- If Statement"
   ]
  },
  {
   "cell_type": "code",
   "execution_count": null,
   "id": "4f13d3ea",
   "metadata": {},
   "outputs": [],
   "source": []
  },
  {
   "cell_type": "markdown",
   "id": "757d5709",
   "metadata": {},
   "source": [
    "- lets check the value is true or false\n",
    "- example: `if True:\n",
    "              print('Conditional was True') #it will only work if the conditional is true`\n",
    "- example: ``if False:\n",
    "              print('Conditional was True')              \n",
    "- lets create a variable \n",
    "- example: `language = 'Python'\n",
    "           if language == 'Python':\n",
    "              print('Conditional was True')`\n",
    "- `==` we use this to check equality\n"
   ]
  },
  {
   "cell_type": "code",
   "execution_count": null,
   "id": "6212fdbf",
   "metadata": {},
   "outputs": [],
   "source": []
  },
  {
   "cell_type": "markdown",
   "id": "e058951f",
   "metadata": {},
   "source": [
    "- Comparisons:\n",
    "    - Equal: `==`\n",
    "    - Not Equal: `!=`  \n",
    "    - Greater Than: `>`\n",
    "    - Less Than: `<`\n",
    "    - Greater or Equal: `>=`\n",
    "    - Less or Equal: `<=`\n",
    "    - Object Identity: `is`"
   ]
  },
  {
   "cell_type": "code",
   "execution_count": null,
   "id": "1df43245",
   "metadata": {},
   "outputs": [],
   "source": []
  }
 ],
 "metadata": {
  "kernelspec": {
   "display_name": "Python 3 (ipykernel)",
   "language": "python",
   "name": "python3"
  },
  "language_info": {
   "codemirror_mode": {
    "name": "ipython",
    "version": 3
   },
   "file_extension": ".py",
   "mimetype": "text/x-python",
   "name": "python",
   "nbconvert_exporter": "python",
   "pygments_lexer": "ipython3",
   "version": "3.10.0"
  }
 },
 "nbformat": 4,
 "nbformat_minor": 5
}
