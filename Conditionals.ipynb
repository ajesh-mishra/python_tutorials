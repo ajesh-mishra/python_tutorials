{
 "cells": [
  {
   "cell_type": "markdown",
   "id": "d7431adb",
   "metadata": {
    "slideshow": {
     "slide_type": "slide"
    }
   },
   "source": [
    "# Conditionals and Booleans "
   ]
  },
  {
   "cell_type": "markdown",
   "id": "6997fb33",
   "metadata": {
    "slideshow": {
     "slide_type": "subslide"
    }
   },
   "source": [
    "## `if`, `else` and `elif` Statements"
   ]
  },
  {
   "cell_type": "code",
   "execution_count": null,
   "id": "4f13d3ea",
   "metadata": {
    "slideshow": {
     "slide_type": "fragment"
    }
   },
   "outputs": [],
   "source": []
  },
  {
   "cell_type": "code",
   "execution_count": null,
   "id": "1d761809",
   "metadata": {
    "slideshow": {
     "slide_type": "notes"
    }
   },
   "outputs": [],
   "source": [
    "# example: \n",
    "\n",
    "if True:\n",
    "    #it will only work if the conditional is true\n",
    "    print('Conditional was True')"
   ]
  },
  {
   "cell_type": "code",
   "execution_count": null,
   "id": "a0082515",
   "metadata": {
    "slideshow": {
     "slide_type": "notes"
    }
   },
   "outputs": [],
   "source": [
    "# example: \n",
    "\n",
    "if False:\n",
    "    #it will only work if the conditional is false\n",
    "    print('Conditional was True')"
   ]
  },
  {
   "cell_type": "code",
   "execution_count": null,
   "id": "0a176d35",
   "metadata": {
    "slideshow": {
     "slide_type": "notes"
    }
   },
   "outputs": [],
   "source": [
    "# example: \n",
    "\n",
    "language = 'Python'\n",
    "if language == 'Python':\n",
    "    print('Conditional was True')\n",
    "```\n",
    "# example: Mark and Grade "
   ]
  },
  {
   "cell_type": "markdown",
   "id": "f20bc473",
   "metadata": {
    "slideshow": {
     "slide_type": "subslide"
    }
   },
   "source": [
    "## `and`, `or` and `not` Operators"
   ]
  },
  {
   "cell_type": "code",
   "execution_count": null,
   "id": "6212fdbf",
   "metadata": {
    "slideshow": {
     "slide_type": "fragment"
    }
   },
   "outputs": [],
   "source": []
  },
  {
   "cell_type": "code",
   "execution_count": null,
   "id": "9969a34d",
   "metadata": {
    "slideshow": {
     "slide_type": "notes"
    }
   },
   "outputs": [],
   "source": [
    "# example\n",
    "\n",
    "user = 'Admin'\n",
    "logged_in = True\n",
    "if user == 'Admin' and logged_in:\n",
    "    print('Admin Page')\n",
    "else:\n",
    "    print('Bad Credentials')"
   ]
  },
  {
   "cell_type": "code",
   "execution_count": null,
   "id": "b16326ff",
   "metadata": {
    "slideshow": {
     "slide_type": "notes"
    }
   },
   "outputs": [],
   "source": [
    "# example\n",
    "# Calculate discount\n",
    "\n",
    "bill_amount = 100\n",
    "age = 18\n",
    "\n",
    "if bill_amount >= 100 and age <= 18:\n",
    "    print(f'eligible discount: 15%')  \n",
    "elif bill_amount >= 100 and age > 18:\n",
    "    print(f'eligible discount: 10%')\n",
    "else:\n",
    "    print(f'eligible discount: 5%')"
   ]
  },
  {
   "cell_type": "markdown",
   "id": "5052cb29",
   "metadata": {
    "slideshow": {
     "slide_type": "subslide"
    }
   },
   "source": [
    "## `is` Operator"
   ]
  },
  {
   "cell_type": "code",
   "execution_count": null,
   "id": "8ac2f46a",
   "metadata": {
    "slideshow": {
     "slide_type": "fragment"
    }
   },
   "outputs": [],
   "source": [
    "a = [1, 2, 3]\n",
    "b = [1, 2, 3]"
   ]
  },
  {
   "cell_type": "code",
   "execution_count": null,
   "id": "24930a70",
   "metadata": {
    "slideshow": {
     "slide_type": "notes"
    }
   },
   "outputs": [],
   "source": [
    "# example\n",
    "\n",
    "print(id(a))\n",
    "print(id(b))\n",
    "print(a is b)"
   ]
  },
  {
   "cell_type": "markdown",
   "id": "8d2cc55c",
   "metadata": {
    "slideshow": {
     "slide_type": "subslide"
    }
   },
   "source": [
    "## Conditions that Python Evalutes as `False`"
   ]
  },
  {
   "cell_type": "code",
   "execution_count": null,
   "id": "b294876c",
   "metadata": {
    "slideshow": {
     "slide_type": "fragment"
    }
   },
   "outputs": [],
   "source": [
    "if <condition>:\n",
    "    print('Evaluated as Ture')\n",
    "else:\n",
    "    print('Evaluated as False')"
   ]
  },
  {
   "cell_type": "markdown",
   "id": "fccabb0b",
   "metadata": {
    "slideshow": {
     "slide_type": "notes"
    }
   },
   "source": [
    "- The Boolean `False`\n",
    "- The Data Type `None`\n",
    "- `0` of any numeric type\n",
    "- Empty `str`, `list`, `tuple`, `dict`"
   ]
  },
  {
   "cell_type": "markdown",
   "id": "c3c7da99",
   "metadata": {
    "slideshow": {
     "slide_type": "subslide"
    }
   },
   "source": [
    "## Recap"
   ]
  },
  {
   "cell_type": "markdown",
   "id": "99ec0f0d",
   "metadata": {
    "slideshow": {
     "slide_type": "fragment"
    }
   },
   "source": [
    "- Syntax of `if`, `else` and `elif`"
   ]
  },
  {
   "cell_type": "markdown",
   "id": "02115b06",
   "metadata": {
    "slideshow": {
     "slide_type": "fragment"
    }
   },
   "source": [
    "- Operators: `and`, `or` and `not`"
   ]
  },
  {
   "cell_type": "markdown",
   "id": "f67b522c",
   "metadata": {
    "slideshow": {
     "slide_type": "fragment"
    }
   },
   "source": [
    "- `is` Operator"
   ]
  },
  {
   "cell_type": "markdown",
   "id": "98affde7",
   "metadata": {
    "slideshow": {
     "slide_type": "fragment"
    }
   },
   "source": [
    "- `False` and `True` Conditions"
   ]
  },
  {
   "cell_type": "markdown",
   "id": "7264a6e4",
   "metadata": {
    "slideshow": {
     "slide_type": "subslide"
    }
   },
   "source": [
    "## Thank You\n",
    "Do you have any questions?"
   ]
  }
 ],
 "metadata": {
  "celltoolbar": "Slideshow",
  "kernelspec": {
   "display_name": "Python 3 (ipykernel)",
   "language": "python",
   "name": "python3"
  },
  "language_info": {
   "codemirror_mode": {
    "name": "ipython",
    "version": 3
   },
   "file_extension": ".py",
   "mimetype": "text/x-python",
   "name": "python",
   "nbconvert_exporter": "python",
   "pygments_lexer": "ipython3",
   "version": "3.8.9"
  },
  "rise": {
   "auto_select": "code",
   "enable_chalkboard": true,
   "start_slideshow_at": "beginning"
  }
 },
 "nbformat": 4,
 "nbformat_minor": 5
}
