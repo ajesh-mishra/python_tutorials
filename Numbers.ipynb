{
 "cells": [
  {
   "cell_type": "markdown",
   "id": "a5a4b43b",
   "metadata": {
    "slideshow": {
     "slide_type": "slide"
    }
   },
   "source": [
    "# Numbers: Integers and Floats"
   ]
  },
  {
   "cell_type": "markdown",
   "id": "a1d4282d",
   "metadata": {
    "slideshow": {
     "slide_type": "subslide"
    }
   },
   "source": [
    "## Example of `int` and `float`"
   ]
  },
  {
   "cell_type": "code",
   "execution_count": null,
   "id": "6e0dc4b7",
   "metadata": {
    "slideshow": {
     "slide_type": "fragment"
    }
   },
   "outputs": [],
   "source": [
    "num1 = 5\n",
    "num2 = 5.5"
   ]
  },
  {
   "cell_type": "markdown",
   "id": "1b53352f",
   "metadata": {
    "slideshow": {
     "slide_type": "subslide"
    }
   },
   "source": [
    "## Arithmetic Operations"
   ]
  },
  {
   "cell_type": "code",
   "execution_count": null,
   "id": "3b1d5117",
   "metadata": {
    "slideshow": {
     "slide_type": "fragment"
    }
   },
   "outputs": [],
   "source": [
    "num1 = 3\n",
    "num2 = 2"
   ]
  },
  {
   "cell_type": "markdown",
   "id": "3bf453f5",
   "metadata": {
    "slideshow": {
     "slide_type": "notes"
    }
   },
   "source": [
    "- Addition `num1 + num2`\n",
    "- Subtraction `num1 - num2`\n",
    "- Multiplication `num1 * num2`\n",
    "- Division `num1 / num2`\n",
    "- Floor Division `num1 // num2`\n",
    "- Exponent `num1 ** num2`\n",
    "- Modulus `num1 % num2`\n",
    "\n",
    "- Bodmas Rule\n",
    "- Parenthesis\n",
    "\n",
    "- Increment `+=` and Decrement `-=`"
   ]
  },
  {
   "cell_type": "markdown",
   "id": "13ac50d0",
   "metadata": {
    "slideshow": {
     "slide_type": "subslide"
    }
   },
   "source": [
    "## Built-In Functions"
   ]
  },
  {
   "cell_type": "markdown",
   "id": "a0f77176",
   "metadata": {
    "slideshow": {
     "slide_type": "fragment"
    }
   },
   "source": [
    "- Absolute: `abs`"
   ]
  },
  {
   "cell_type": "code",
   "execution_count": null,
   "id": "97ef0fbb",
   "metadata": {
    "slideshow": {
     "slide_type": "fragment"
    }
   },
   "outputs": [],
   "source": [
    "num = -3"
   ]
  },
  {
   "cell_type": "code",
   "execution_count": null,
   "id": "9254dfe8",
   "metadata": {
    "slideshow": {
     "slide_type": "notes"
    }
   },
   "outputs": [],
   "source": [
    "print(abs(num))"
   ]
  },
  {
   "cell_type": "markdown",
   "id": "6e8c6213",
   "metadata": {
    "slideshow": {
     "slide_type": "fragment"
    }
   },
   "source": [
    "- Rounding-off: `round`"
   ]
  },
  {
   "cell_type": "code",
   "execution_count": null,
   "id": "371eef80",
   "metadata": {
    "slideshow": {
     "slide_type": "fragment"
    }
   },
   "outputs": [],
   "source": [
    "num = 3.75"
   ]
  },
  {
   "cell_type": "markdown",
   "id": "4110f8a7",
   "metadata": {
    "slideshow": {
     "slide_type": "notes"
    }
   },
   "source": [
    "- Second Parameter for the `round` function: `print(round(num, 1))`"
   ]
  },
  {
   "cell_type": "markdown",
   "id": "b840d0a4",
   "metadata": {
    "slideshow": {
     "slide_type": "subslide"
    }
   },
   "source": [
    "## Comparisons"
   ]
  },
  {
   "cell_type": "code",
   "execution_count": null,
   "id": "b164e8bb",
   "metadata": {
    "slideshow": {
     "slide_type": "fragment"
    }
   },
   "outputs": [],
   "source": [
    "num1 = 3\n",
    "num2 = 2"
   ]
  },
  {
   "cell_type": "markdown",
   "id": "9a1a4694",
   "metadata": {
    "slideshow": {
     "slide_type": "notes"
    }
   },
   "source": [
    "- Equal `num1 == num2`\n",
    "- Not Equal `num1 != num2`\n",
    "- Greater Than `num1 > num2`\n",
    "- Less Than `num1 < num2`\n",
    "- Greater than or Equal to `num1 >= num2`\n",
    "- Less than or Equal to `num1 <= num2`"
   ]
  },
  {
   "cell_type": "markdown",
   "id": "9dfad03e",
   "metadata": {
    "slideshow": {
     "slide_type": "subslide"
    }
   },
   "source": [
    "## Casting"
   ]
  },
  {
   "cell_type": "code",
   "execution_count": null,
   "id": "ca142c20",
   "metadata": {
    "slideshow": {
     "slide_type": "fragment"
    }
   },
   "outputs": [],
   "source": [
    "num1 = '3'\n",
    "num2 = '2'\n",
    "print(num1 + num2)"
   ]
  },
  {
   "cell_type": "markdown",
   "id": "998935db",
   "metadata": {
    "slideshow": {
     "slide_type": "notes"
    }
   },
   "source": [
    "- Cast num1 into an int: `num1 = int(num1)`\n",
    "- Cast num2 into an int: `num2 = int(num2)`"
   ]
  },
  {
   "cell_type": "markdown",
   "id": "2d103579",
   "metadata": {
    "slideshow": {
     "slide_type": "subslide"
    }
   },
   "source": [
    "# Thank You\n",
    "Do you have any questions?"
   ]
  }
 ],
 "metadata": {
  "celltoolbar": "Slideshow",
  "kernelspec": {
   "display_name": "Python 3 (ipykernel)",
   "language": "python",
   "name": "python3"
  },
  "language_info": {
   "codemirror_mode": {
    "name": "ipython",
    "version": 3
   },
   "file_extension": ".py",
   "mimetype": "text/x-python",
   "name": "python",
   "nbconvert_exporter": "python",
   "pygments_lexer": "ipython3",
   "version": "3.8.9"
  },
  "rise": {
   "auto_select": "code",
   "enable_chalkboard": true,
   "start_slideshow_at": "beginning"
  }
 },
 "nbformat": 4,
 "nbformat_minor": 5
}
