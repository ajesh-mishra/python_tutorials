{
 "cells": [
  {
   "cell_type": "markdown",
   "id": "26dd9960",
   "metadata": {
    "slideshow": {
     "slide_type": "slide"
    }
   },
   "source": [
    "# Decorators"
   ]
  },
  {
   "cell_type": "markdown",
   "id": "c477cd85",
   "metadata": {
    "slideshow": {
     "slide_type": "subslide"
    }
   },
   "source": [
    "## Syntax"
   ]
  },
  {
   "cell_type": "code",
   "execution_count": null,
   "id": "c4215195",
   "metadata": {
    "slideshow": {
     "slide_type": "fragment"
    }
   },
   "outputs": [],
   "source": []
  },
  {
   "cell_type": "code",
   "execution_count": null,
   "id": "7704bfd5",
   "metadata": {
    "slideshow": {
     "slide_type": "notes"
    }
   },
   "outputs": [],
   "source": [
    "# example\n",
    "\n",
    "def decorator_func(original_func):\n",
    "    def wrapper_func():\n",
    "        return original_func()\n",
    "    return wrapper_func\n",
    "\n",
    "@decorator_func\n",
    "def greetings():\n",
    "    print('Hello World')\n",
    "\n",
    "decorated_greetings = decorator_func(greetings)\n",
    "decorated_greetings()\n",
    "\n",
    "greetings()"
   ]
  },
  {
   "cell_type": "markdown",
   "id": "af7d1cc9",
   "metadata": {
    "slideshow": {
     "slide_type": "subslide"
    }
   },
   "source": [
    "## Generic Decorator"
   ]
  },
  {
   "cell_type": "code",
   "execution_count": null,
   "id": "a4943cd6",
   "metadata": {
    "slideshow": {
     "slide_type": "fragment"
    }
   },
   "outputs": [],
   "source": [
    "def decorator_func(original_func):\n",
    "    def wrapper_func():\n",
    "        return original_func()\n",
    "    return wrapper_func\n",
    "\n",
    "@decorator_func\n",
    "def greetings():\n",
    "    print('Hello World')\n",
    "\n",
    "greetings()"
   ]
  },
  {
   "cell_type": "code",
   "execution_count": null,
   "id": "a4add3e6",
   "metadata": {
    "slideshow": {
     "slide_type": "notes"
    }
   },
   "outputs": [],
   "source": [
    "# example\n",
    "\n",
    "def decorator_func(original_func):\n",
    "    def wrapper_func(*args):\n",
    "        return original_func(*args)\n",
    "    return wrapper_func\n",
    "\n",
    "@decorator_func\n",
    "def greetings():\n",
    "    print('Hello World')\n",
    "\n",
    "greetings()\n",
    "\n",
    "@decorator_func\n",
    "def greetings_with_name(name):\n",
    "    print('Hello ', name)\n",
    "    \n",
    "greetings_with_name('Ajesh')"
   ]
  },
  {
   "cell_type": "markdown",
   "id": "b25a3d92",
   "metadata": {
    "slideshow": {
     "slide_type": "subslide"
    }
   },
   "source": [
    "## Thank You\n",
    "Do you have any questions?"
   ]
  }
 ],
 "metadata": {
  "celltoolbar": "Slideshow",
  "kernelspec": {
   "display_name": "Python 3 (ipykernel)",
   "language": "python",
   "name": "python3"
  },
  "language_info": {
   "codemirror_mode": {
    "name": "ipython",
    "version": 3
   },
   "file_extension": ".py",
   "mimetype": "text/x-python",
   "name": "python",
   "nbconvert_exporter": "python",
   "pygments_lexer": "ipython3",
   "version": "3.8.9"
  },
  "rise": {
   "auto_select": "code",
   "enable_chalkboard": true,
   "start_slideshow_at": "beginning"
  }
 },
 "nbformat": 4,
 "nbformat_minor": 5
}
