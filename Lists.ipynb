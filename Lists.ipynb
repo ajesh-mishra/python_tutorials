{
 "cells": [
  {
   "cell_type": "markdown",
   "id": "f7514008",
   "metadata": {
    "slideshow": {
     "slide_type": "slide"
    }
   },
   "source": [
    "# Lists"
   ]
  },
  {
   "cell_type": "markdown",
   "id": "9986ac06",
   "metadata": {
    "slideshow": {
     "slide_type": "subslide"
    }
   },
   "source": [
    "## Syntax"
   ]
  },
  {
   "cell_type": "code",
   "execution_count": null,
   "id": "40565cea",
   "metadata": {
    "slideshow": {
     "slide_type": "fragment"
    }
   },
   "outputs": [],
   "source": []
  },
  {
   "cell_type": "markdown",
   "id": "1208f9e9",
   "metadata": {
    "slideshow": {
     "slide_type": "notes"
    }
   },
   "source": [
    "- example of list: `courses = ['History', 'Math', 'Physics', 'Computer']`\n",
    "- `len` of list: `print(len(courses))`\n",
    "- access elements of list: `print(courses[0])`\n",
    "- Last Value of the list: `print(courses[-1])`\n",
    "- `range` of values: `print(courses[0:2])`\n",
    "- First indexes of a `range` can be omitted: `print(courses[:2])`\n",
    "- Last indexes of a `range` can be omitted: `print(courses[2:])`"
   ]
  },
  {
   "cell_type": "markdown",
   "id": "e274c698",
   "metadata": {
    "slideshow": {
     "slide_type": "subslide"
    }
   },
   "source": [
    "## Modifying List"
   ]
  },
  {
   "cell_type": "markdown",
   "id": "f832472e",
   "metadata": {
    "slideshow": {
     "slide_type": "fragment"
    }
   },
   "source": [
    "- Appending to List: `append`"
   ]
  },
  {
   "cell_type": "code",
   "execution_count": null,
   "id": "4ba72627",
   "metadata": {
    "slideshow": {
     "slide_type": "fragment"
    }
   },
   "outputs": [],
   "source": [
    "courses = ['History', 'Math', 'Physics', 'Computer']"
   ]
  },
  {
   "cell_type": "markdown",
   "id": "b252d582",
   "metadata": {
    "slideshow": {
     "slide_type": "notes"
    }
   },
   "source": [
    "- example: `courses.append('Art')`"
   ]
  },
  {
   "cell_type": "markdown",
   "id": "7507c930",
   "metadata": {
    "slideshow": {
     "slide_type": "fragment"
    }
   },
   "source": [
    "- Inserting in a specific index: `insert`"
   ]
  },
  {
   "cell_type": "code",
   "execution_count": null,
   "id": "aa8d8f7f",
   "metadata": {
    "slideshow": {
     "slide_type": "fragment"
    }
   },
   "outputs": [],
   "source": [
    "courses = ['History', 'Math', 'Physics', 'Computer']"
   ]
  },
  {
   "cell_type": "markdown",
   "id": "a3dbdb41",
   "metadata": {
    "slideshow": {
     "slide_type": "notes"
    }
   },
   "source": [
    "- example: `courses.insert(0, 'Art')`\n"
   ]
  },
  {
   "cell_type": "markdown",
   "id": "8356a5e4",
   "metadata": {
    "slideshow": {
     "slide_type": "subslide"
    }
   },
   "source": [
    "## Modifying List"
   ]
  },
  {
   "cell_type": "markdown",
   "id": "be97de2c",
   "metadata": {
    "slideshow": {
     "slide_type": "fragment"
    }
   },
   "source": [
    "- Extending in List: `extend`"
   ]
  },
  {
   "cell_type": "code",
   "execution_count": null,
   "id": "e142ee52",
   "metadata": {
    "slideshow": {
     "slide_type": "fragment"
    }
   },
   "outputs": [],
   "source": [
    "courses_1 = ['History', 'Math', 'Physics', 'Computer']\n",
    "courses_2 = ['Art', 'Education']"
   ]
  },
  {
   "cell_type": "markdown",
   "id": "537b5a85",
   "metadata": {
    "slideshow": {
     "slide_type": "notes"
    }
   },
   "source": [
    "- To extend rather than using insert we can use: `courses_1.extend(courses_2)`"
   ]
  },
  {
   "cell_type": "markdown",
   "id": "b972f480",
   "metadata": {
    "slideshow": {
     "slide_type": "fragment"
    }
   },
   "source": [
    "- Removing element of List: `remove`"
   ]
  },
  {
   "cell_type": "code",
   "execution_count": null,
   "id": "4f26f4da",
   "metadata": {
    "slideshow": {
     "slide_type": "fragment"
    }
   },
   "outputs": [],
   "source": [
    "courses = ['History', 'Math', 'Physics', 'Computer']"
   ]
  },
  {
   "cell_type": "markdown",
   "id": "f0f80bfd",
   "metadata": {
    "slideshow": {
     "slide_type": "notes"
    }
   },
   "source": [
    "- example: courses.remove('Math')"
   ]
  },
  {
   "cell_type": "markdown",
   "id": "f3087d53",
   "metadata": {
    "slideshow": {
     "slide_type": "fragment"
    }
   },
   "source": [
    "- Removing Last Element: `pop`"
   ]
  },
  {
   "cell_type": "code",
   "execution_count": null,
   "id": "e500878e",
   "metadata": {
    "slideshow": {
     "slide_type": "fragment"
    }
   },
   "outputs": [],
   "source": [
    "courses = ['History', 'Math', 'Physics', 'Computer']"
   ]
  },
  {
   "cell_type": "markdown",
   "id": "b9070c60",
   "metadata": {
    "slideshow": {
     "slide_type": "notes"
    }
   },
   "source": [
    "- example: `popped = courses.pop()`"
   ]
  },
  {
   "cell_type": "markdown",
   "id": "1c55e2c4",
   "metadata": {
    "slideshow": {
     "slide_type": "subslide"
    }
   },
   "source": [
    "## Finding Values in List"
   ]
  },
  {
   "cell_type": "markdown",
   "id": "c05e6b95",
   "metadata": {
    "slideshow": {
     "slide_type": "fragment"
    }
   },
   "source": [
    "- Check if list has a value: `in`"
   ]
  },
  {
   "cell_type": "code",
   "execution_count": null,
   "id": "27d685d8",
   "metadata": {
    "slideshow": {
     "slide_type": "fragment"
    }
   },
   "outputs": [],
   "source": [
    "numbers = [0, 1, 2, 3, 4]\n",
    "courses = ['History', 'Math', 'Physics', 'Computer']"
   ]
  },
  {
   "cell_type": "markdown",
   "id": "a30fbcd4",
   "metadata": {
    "slideshow": {
     "slide_type": "notes"
    }
   },
   "source": [
    "- example: `print(2 in numbers)`"
   ]
  },
  {
   "cell_type": "markdown",
   "id": "fcbf72a2",
   "metadata": {
    "slideshow": {
     "slide_type": "fragment"
    }
   },
   "source": [
    "- Find Position of a Value: `index`"
   ]
  },
  {
   "cell_type": "code",
   "execution_count": null,
   "id": "f880303b",
   "metadata": {
    "slideshow": {
     "slide_type": "fragment"
    }
   },
   "outputs": [],
   "source": [
    "numbers = [0, 1, 2, 3, 4]\n",
    "courses = ['History', 'Math', 'Physics', 'Computer']"
   ]
  },
  {
   "cell_type": "markdown",
   "id": "2f2cccdc",
   "metadata": {
    "slideshow": {
     "slide_type": "notes"
    }
   },
   "source": [
    "- example: `numbers.index(2)`"
   ]
  },
  {
   "cell_type": "markdown",
   "id": "47e6554c",
   "metadata": {
    "slideshow": {
     "slide_type": "subslide"
    }
   },
   "source": [
    "## Traversing a List using `for` loop"
   ]
  },
  {
   "cell_type": "code",
   "execution_count": null,
   "id": "6b1a08a6",
   "metadata": {
    "slideshow": {
     "slide_type": "fragment"
    }
   },
   "outputs": [],
   "source": [
    "numbers = [0, 1, 2, 3, 4]\n",
    "courses = ['History', 'Math', 'Physics', 'Computer']"
   ]
  },
  {
   "cell_type": "code",
   "execution_count": null,
   "id": "c695b833",
   "metadata": {
    "slideshow": {
     "slide_type": "notes"
    }
   },
   "outputs": [],
   "source": [
    "for index, number in enumerate(numbers):\n",
    "    print(index, number)"
   ]
  },
  {
   "cell_type": "markdown",
   "id": "8c00cba5",
   "metadata": {
    "slideshow": {
     "slide_type": "subslide"
    }
   },
   "source": [
    "## Sorting"
   ]
  },
  {
   "cell_type": "markdown",
   "id": "70a11121",
   "metadata": {
    "slideshow": {
     "slide_type": "fragment"
    }
   },
   "source": [
    "- Reverse the list: `reverse`"
   ]
  },
  {
   "cell_type": "code",
   "execution_count": null,
   "id": "9a4fe591",
   "metadata": {
    "slideshow": {
     "slide_type": "fragment"
    }
   },
   "outputs": [],
   "source": [
    "courses = ['History', 'Math', 'Physics', 'Computer']"
   ]
  },
  {
   "cell_type": "markdown",
   "id": "bc5d9abe",
   "metadata": {
    "slideshow": {
     "slide_type": "notes"
    }
   },
   "source": [
    "- example: `courses.reverse()`"
   ]
  },
  {
   "cell_type": "markdown",
   "id": "49f9d4d1",
   "metadata": {
    "slideshow": {
     "slide_type": "fragment"
    }
   },
   "source": [
    "- Sorting the list: `sort`"
   ]
  },
  {
   "cell_type": "code",
   "execution_count": null,
   "id": "ff7f57de",
   "metadata": {
    "slideshow": {
     "slide_type": "fragment"
    }
   },
   "outputs": [],
   "source": [
    "courses = ['History', 'Math', 'Physics', 'Computer']"
   ]
  },
  {
   "cell_type": "markdown",
   "id": "6ee6ab54",
   "metadata": {
    "slideshow": {
     "slide_type": "notes"
    }
   },
   "source": [
    "- example: `courses.sort()`\n",
    "- an example of numbers list\n",
    "- using `reverse` parameter of `sort` function: `courses.sort(reverse=True)`\n",
    "- Sorting without altering the original list: `sorted_courses = sorted(courses)`"
   ]
  },
  {
   "cell_type": "markdown",
   "id": "544003f3",
   "metadata": {
    "slideshow": {
     "slide_type": "subslide"
    }
   },
   "source": [
    "## Built-In Functions for List"
   ]
  },
  {
   "cell_type": "markdown",
   "id": "ad770e77",
   "metadata": {
    "slideshow": {
     "slide_type": "fragment"
    }
   },
   "source": [
    "- Minimum: `min`"
   ]
  },
  {
   "cell_type": "code",
   "execution_count": null,
   "id": "89683fc0",
   "metadata": {
    "slideshow": {
     "slide_type": "fragment"
    }
   },
   "outputs": [],
   "source": [
    "numbers = [0, 1, 2, 3, 4]"
   ]
  },
  {
   "cell_type": "markdown",
   "id": "50eedded",
   "metadata": {
    "slideshow": {
     "slide_type": "notes"
    }
   },
   "source": [
    "- example: `min(numbers)`"
   ]
  },
  {
   "cell_type": "markdown",
   "id": "8f01655f",
   "metadata": {
    "slideshow": {
     "slide_type": "fragment"
    }
   },
   "source": [
    "- Maximum: `max`"
   ]
  },
  {
   "cell_type": "code",
   "execution_count": null,
   "id": "5eb2bcaf",
   "metadata": {
    "slideshow": {
     "slide_type": "fragment"
    }
   },
   "outputs": [],
   "source": [
    "numbers = [0, 1, 2, 3, 4]"
   ]
  },
  {
   "cell_type": "markdown",
   "id": "d005a174",
   "metadata": {
    "slideshow": {
     "slide_type": "notes"
    }
   },
   "source": [
    "- example: `max(numbers)`"
   ]
  },
  {
   "cell_type": "markdown",
   "id": "96c84ff4",
   "metadata": {
    "slideshow": {
     "slide_type": "fragment"
    }
   },
   "source": [
    "- Sum: `sum`"
   ]
  },
  {
   "cell_type": "code",
   "execution_count": null,
   "id": "755bafef",
   "metadata": {
    "slideshow": {
     "slide_type": "fragment"
    }
   },
   "outputs": [],
   "source": [
    "numbers = [0, 1, 2, 3, 4]"
   ]
  },
  {
   "cell_type": "markdown",
   "id": "53de302f",
   "metadata": {
    "slideshow": {
     "slide_type": "notes"
    }
   },
   "source": [
    "- example: `sum(numbers)`"
   ]
  },
  {
   "cell_type": "markdown",
   "id": "9acb35a1",
   "metadata": {
    "slideshow": {
     "slide_type": "subslide"
    }
   },
   "source": [
    "## String and List"
   ]
  },
  {
   "cell_type": "markdown",
   "id": "4954135e",
   "metadata": {
    "slideshow": {
     "slide_type": "fragment"
    }
   },
   "source": [
    "- Converting `list` to `str`: `join`"
   ]
  },
  {
   "cell_type": "code",
   "execution_count": 30,
   "id": "a19b5c2a",
   "metadata": {
    "slideshow": {
     "slide_type": "fragment"
    }
   },
   "outputs": [],
   "source": [
    "courses = ['History', 'Math', 'Physics', 'Computer']"
   ]
  },
  {
   "cell_type": "markdown",
   "id": "dbab4a98",
   "metadata": {
    "slideshow": {
     "slide_type": "notes"
    }
   },
   "source": [
    "- example: `', '.join(courses)`"
   ]
  },
  {
   "cell_type": "markdown",
   "id": "bd1fded9",
   "metadata": {
    "slideshow": {
     "slide_type": "fragment"
    }
   },
   "source": [
    "- Converting `str` to `list`: `split`"
   ]
  },
  {
   "cell_type": "code",
   "execution_count": 31,
   "id": "5fdb292b",
   "metadata": {
    "slideshow": {
     "slide_type": "fragment"
    }
   },
   "outputs": [],
   "source": [
    "courses = 'History,Math,Physics,Computer'"
   ]
  },
  {
   "cell_type": "markdown",
   "id": "8d2401be",
   "metadata": {},
   "source": [
    "## Thank You\n",
    "Do you have any questions?"
   ]
  },
  {
   "cell_type": "markdown",
   "id": "0ff3b8e6",
   "metadata": {
    "slideshow": {
     "slide_type": "notes"
    }
   },
   "source": [
    "- example: `courses.split(',')`"
   ]
  }
 ],
 "metadata": {
  "celltoolbar": "Slideshow",
  "kernelspec": {
   "display_name": "Python 3 (ipykernel)",
   "language": "python",
   "name": "python3"
  },
  "language_info": {
   "codemirror_mode": {
    "name": "ipython",
    "version": 3
   },
   "file_extension": ".py",
   "mimetype": "text/x-python",
   "name": "python",
   "nbconvert_exporter": "python",
   "pygments_lexer": "ipython3",
   "version": "3.8.9"
  },
  "rise": {
   "auto_select": "code",
   "enable_chalkboard": true,
   "start_slideshow_at": "beginning"
  }
 },
 "nbformat": 4,
 "nbformat_minor": 5
}
