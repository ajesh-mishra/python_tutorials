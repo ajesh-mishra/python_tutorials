{
 "cells": [
  {
   "cell_type": "markdown",
   "id": "522d09bb",
   "metadata": {
    "slideshow": {
     "slide_type": "slide"
    }
   },
   "source": [
    "# Data Types"
   ]
  },
  {
   "cell_type": "markdown",
   "id": "be7f5d57",
   "metadata": {
    "slideshow": {
     "slide_type": "subslide"
    }
   },
   "source": [
    "## String"
   ]
  },
  {
   "cell_type": "code",
   "execution_count": null,
   "id": "1ccbf928",
   "metadata": {
    "slideshow": {
     "slide_type": "fragment"
    }
   },
   "outputs": [],
   "source": [
    "name = 'Ajesh'"
   ]
  },
  {
   "cell_type": "markdown",
   "id": "07405dbb",
   "metadata": {
    "slideshow": {
     "slide_type": "subslide"
    }
   },
   "source": [
    "## Numbers"
   ]
  },
  {
   "cell_type": "markdown",
   "id": "70e5b94a",
   "metadata": {
    "slideshow": {
     "slide_type": "fragment"
    }
   },
   "source": [
    "- Integers: `int`"
   ]
  },
  {
   "cell_type": "code",
   "execution_count": null,
   "id": "534f1849",
   "metadata": {
    "slideshow": {
     "slide_type": "fragment"
    }
   },
   "outputs": [],
   "source": []
  },
  {
   "cell_type": "markdown",
   "id": "172c633f",
   "metadata": {
    "slideshow": {
     "slide_type": "fragment"
    }
   },
   "source": [
    "- Floats: `float`"
   ]
  },
  {
   "cell_type": "code",
   "execution_count": null,
   "id": "9220f57f",
   "metadata": {
    "slideshow": {
     "slide_type": "fragment"
    }
   },
   "outputs": [],
   "source": []
  },
  {
   "cell_type": "markdown",
   "id": "e2096291",
   "metadata": {
    "slideshow": {
     "slide_type": "subslide"
    }
   },
   "source": [
    "## Sequence"
   ]
  },
  {
   "cell_type": "markdown",
   "id": "512364e4",
   "metadata": {
    "slideshow": {
     "slide_type": "fragment"
    }
   },
   "source": [
    "- List: `list`"
   ]
  },
  {
   "cell_type": "code",
   "execution_count": null,
   "id": "0d932966",
   "metadata": {
    "slideshow": {
     "slide_type": "fragment"
    }
   },
   "outputs": [],
   "source": []
  },
  {
   "cell_type": "markdown",
   "id": "8c78cf6e",
   "metadata": {
    "slideshow": {
     "slide_type": "notes"
    }
   },
   "source": [
    "- example of a list `l = [1, 2, 3]`"
   ]
  },
  {
   "cell_type": "markdown",
   "id": "e4b45c88",
   "metadata": {
    "slideshow": {
     "slide_type": "fragment"
    }
   },
   "source": [
    "- Tuple: `tuple`"
   ]
  },
  {
   "cell_type": "code",
   "execution_count": null,
   "id": "774dee19",
   "metadata": {
    "slideshow": {
     "slide_type": "fragment"
    }
   },
   "outputs": [],
   "source": []
  },
  {
   "cell_type": "markdown",
   "id": "3f112a2d",
   "metadata": {
    "slideshow": {
     "slide_type": "notes"
    }
   },
   "source": [
    "- example of a tuple `t = (1, 2, 3)`"
   ]
  },
  {
   "cell_type": "markdown",
   "id": "b421f9c0",
   "metadata": {
    "slideshow": {
     "slide_type": "fragment"
    }
   },
   "source": [
    "- Range: `range`"
   ]
  },
  {
   "cell_type": "code",
   "execution_count": null,
   "id": "4df5f549",
   "metadata": {
    "slideshow": {
     "slide_type": "fragment"
    }
   },
   "outputs": [],
   "source": []
  },
  {
   "cell_type": "markdown",
   "id": "09178071",
   "metadata": {
    "slideshow": {
     "slide_type": "notes"
    }
   },
   "source": [
    "- example of range: `type(range(0, 10))`"
   ]
  },
  {
   "cell_type": "markdown",
   "id": "12dc776b",
   "metadata": {
    "slideshow": {
     "slide_type": "subslide"
    }
   },
   "source": [
    "## Mapping"
   ]
  },
  {
   "cell_type": "markdown",
   "id": "2d58c435",
   "metadata": {
    "slideshow": {
     "slide_type": "fragment"
    }
   },
   "source": [
    "- Dictionary: `dict`"
   ]
  },
  {
   "cell_type": "code",
   "execution_count": null,
   "id": "06aa5270",
   "metadata": {
    "slideshow": {
     "slide_type": "fragment"
    }
   },
   "outputs": [],
   "source": []
  },
  {
   "cell_type": "markdown",
   "id": "0925b6ef",
   "metadata": {
    "slideshow": {
     "slide_type": "notes"
    }
   },
   "source": [
    "- example of dictionary: `d = {'name': 'Tom', 'age': '30', 'phone': 93979737}`"
   ]
  },
  {
   "cell_type": "markdown",
   "id": "cbfa08b7",
   "metadata": {
    "slideshow": {
     "slide_type": "subslide"
    }
   },
   "source": [
    "## Set"
   ]
  },
  {
   "cell_type": "markdown",
   "id": "8c2519de",
   "metadata": {
    "slideshow": {
     "slide_type": "fragment"
    }
   },
   "source": [
    "- Set: `set`"
   ]
  },
  {
   "cell_type": "code",
   "execution_count": null,
   "id": "ec11854b",
   "metadata": {
    "slideshow": {
     "slide_type": "fragment"
    }
   },
   "outputs": [],
   "source": []
  },
  {
   "cell_type": "markdown",
   "id": "d012b004",
   "metadata": {
    "slideshow": {
     "slide_type": "notes"
    }
   },
   "source": [
    "- example of a set: `s = {'apple', 'banana', 'cherry'}`"
   ]
  },
  {
   "cell_type": "markdown",
   "id": "83efd141",
   "metadata": {
    "slideshow": {
     "slide_type": "fragment"
    }
   },
   "source": [
    "- Frozen Set: `frozenset`"
   ]
  },
  {
   "cell_type": "code",
   "execution_count": null,
   "id": "24d868e3",
   "metadata": {
    "slideshow": {
     "slide_type": "fragment"
    }
   },
   "outputs": [],
   "source": []
  },
  {
   "cell_type": "markdown",
   "id": "886a6380",
   "metadata": {
    "slideshow": {
     "slide_type": "notes"
    }
   },
   "source": [
    "- example of a frozenset: `f = frozenset({'apple', 'banana', 'cherry'})`"
   ]
  },
  {
   "cell_type": "markdown",
   "id": "b3d96bbb",
   "metadata": {
    "slideshow": {
     "slide_type": "subslide"
    }
   },
   "source": [
    "## Boolean: `bool`"
   ]
  },
  {
   "cell_type": "code",
   "execution_count": null,
   "id": "26b91c1d",
   "metadata": {
    "slideshow": {
     "slide_type": "fragment"
    }
   },
   "outputs": [],
   "source": []
  },
  {
   "cell_type": "markdown",
   "id": "14c413e0",
   "metadata": {
    "slideshow": {
     "slide_type": "notes"
    }
   },
   "source": [
    "- example of a boolean: `b = True`"
   ]
  },
  {
   "cell_type": "markdown",
   "id": "0c168923",
   "metadata": {
    "slideshow": {
     "slide_type": "subslide"
    }
   },
   "source": [
    "## None Type: `None`"
   ]
  },
  {
   "cell_type": "code",
   "execution_count": null,
   "id": "5a168576",
   "metadata": {
    "slideshow": {
     "slide_type": "fragment"
    }
   },
   "outputs": [],
   "source": []
  },
  {
   "cell_type": "markdown",
   "id": "c4dcc216",
   "metadata": {
    "slideshow": {
     "slide_type": "subslide"
    }
   },
   "source": [
    "## Summary"
   ]
  },
  {
   "cell_type": "markdown",
   "id": "f64d8b13",
   "metadata": {
    "slideshow": {
     "slide_type": "fragment"
    }
   },
   "source": [
    "- Strings"
   ]
  },
  {
   "cell_type": "markdown",
   "id": "d6487046",
   "metadata": {
    "slideshow": {
     "slide_type": "fragment"
    }
   },
   "source": [
    "- Number"
   ]
  },
  {
   "cell_type": "markdown",
   "id": "ede4ba42",
   "metadata": {
    "slideshow": {
     "slide_type": "fragment"
    }
   },
   "source": [
    "- Sequence"
   ]
  },
  {
   "cell_type": "markdown",
   "id": "dca15f68",
   "metadata": {
    "slideshow": {
     "slide_type": "fragment"
    }
   },
   "source": [
    "- Mapping"
   ]
  },
  {
   "cell_type": "markdown",
   "id": "83727d75",
   "metadata": {
    "slideshow": {
     "slide_type": "fragment"
    }
   },
   "source": [
    "- Set"
   ]
  },
  {
   "cell_type": "markdown",
   "id": "6f0805f1",
   "metadata": {
    "slideshow": {
     "slide_type": "fragment"
    }
   },
   "source": [
    "- None Type"
   ]
  },
  {
   "cell_type": "markdown",
   "id": "209a81e3",
   "metadata": {
    "slideshow": {
     "slide_type": "subslide"
    }
   },
   "source": [
    "## Thank You\n",
    "Do you have any questions?"
   ]
  }
 ],
 "metadata": {
  "celltoolbar": "Slideshow",
  "kernelspec": {
   "display_name": "Python 3 (ipykernel)",
   "language": "python",
   "name": "python3"
  },
  "language_info": {
   "codemirror_mode": {
    "name": "ipython",
    "version": 3
   },
   "file_extension": ".py",
   "mimetype": "text/x-python",
   "name": "python",
   "nbconvert_exporter": "python",
   "pygments_lexer": "ipython3",
   "version": "3.8.9"
  },
  "rise": {
   "auto_select": "code",
   "enable_chalkboard": true,
   "start_slideshow_at": "beginning"
  }
 },
 "nbformat": 4,
 "nbformat_minor": 5
}
