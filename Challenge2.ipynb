{
 "cells": [
  {
   "cell_type": "markdown",
   "id": "25d0f161",
   "metadata": {
    "slideshow": {
     "slide_type": "slide"
    }
   },
   "source": [
    "# Coding Challenge"
   ]
  },
  {
   "cell_type": "markdown",
   "id": "9afa729a",
   "metadata": {
    "cell_style": "split",
    "slideshow": {
     "slide_type": "subslide"
    }
   },
   "source": [
    "## Sum of Unique Elements\n",
    "You are given an integer array nums. The unique elements of an array are the elements that appear exactly once in the array.\n",
    "\n",
    "Return the sum of all the unique elements of nums."
   ]
  },
  {
   "cell_type": "code",
   "execution_count": null,
   "id": "f861100f",
   "metadata": {
    "cell_style": "split",
    "slideshow": {
     "slide_type": "fragment"
    }
   },
   "outputs": [],
   "source": [
    "def sumOfUnique(nums):\n",
    "    pass\n",
    "\n",
    "\n",
    "assert sumOfUnique([1,2,3,2]) == 4\n",
    "assert sumOfUnique([1,1,1,1]) == 0\n",
    "assert sumOfUnique([1,2,3,4,5]) == 15"
   ]
  },
  {
   "cell_type": "code",
   "execution_count": null,
   "id": "641d49cb",
   "metadata": {
    "slideshow": {
     "slide_type": "notes"
    }
   },
   "outputs": [],
   "source": [
    "from typing import List, Dict\n",
    "\n",
    "def sumOfUnique(nums: List[int]) -> int:\n",
    "    map: Dict[int, int] = {}\n",
    "\n",
    "    for num in nums:\n",
    "        try:\n",
    "            map[num] += 1\n",
    "        except KeyError:\n",
    "            map[num] = 1\n",
    "\n",
    "    return sum([num for num, count in map.items() if count == 1])\n",
    "\n",
    "if __name__ == '__main__':\n",
    "    print(sumOfUnique([1,2,3,2]))"
   ]
  },
  {
   "cell_type": "markdown",
   "id": "f55af635",
   "metadata": {
    "cell_style": "split",
    "slideshow": {
     "slide_type": "subslide"
    }
   },
   "source": [
    "## Number of Good Pairs\n",
    "\n",
    "Given an array of integers nums, return the number of good pairs.\n",
    "\n",
    "A pair (i, j) is called good if nums[i] == nums[j] and i < j."
   ]
  },
  {
   "cell_type": "code",
   "execution_count": null,
   "id": "39d59b55",
   "metadata": {
    "cell_style": "split",
    "slideshow": {
     "slide_type": "fragment"
    }
   },
   "outputs": [],
   "source": [
    "def numIdenticalPairs(nums):\n",
    "    pass\n",
    "    \n",
    "    \n",
    "assert numIdenticalPairs([1,2,3,1,1,3]) == 4\n",
    "assert numIdenticalPairs([1,1,1,1]) == 6\n",
    "assert numIdenticalPairs([1,2,3]) == 0"
   ]
  },
  {
   "cell_type": "code",
   "execution_count": null,
   "id": "44b05dca",
   "metadata": {
    "slideshow": {
     "slide_type": "notes"
    }
   },
   "outputs": [],
   "source": [
    "def numIdenticalPairs(nums):\n",
    "    count, nums_len = 0, len(nums) - 1\n",
    "\n",
    "    for index in range(nums_len):\n",
    "        count += nums[index + 1:].count(nums[index])\n",
    "\n",
    "    return count"
   ]
  },
  {
   "cell_type": "markdown",
   "id": "8297293d",
   "metadata": {
    "cell_style": "split",
    "slideshow": {
     "slide_type": "subslide"
    }
   },
   "source": [
    "## Largest Positive Integer That Exists With Its Negative\n",
    "\n",
    "Given an integer array nums that does not contain any zeros, find the largest positive integer k such that -k also exists in the array.\n",
    "\n",
    "Return the positive integer k. If there is no such integer, return -1."
   ]
  },
  {
   "cell_type": "code",
   "execution_count": 7,
   "id": "ebde531c",
   "metadata": {
    "cell_style": "split",
    "slideshow": {
     "slide_type": "fragment"
    }
   },
   "outputs": [],
   "source": [
    "def findMaxK(nums):\n",
    "    pass\n",
    "\n",
    "\n",
    "assert findMaxK([-1,2,-3,3]) == 3\n",
    "assert findMaxK([-1,10,6,7,-7,1]) == 7\n",
    "assert findMaxK([-10,8,6,7,-2,-3]) == -1"
   ]
  },
  {
   "cell_type": "code",
   "execution_count": null,
   "id": "e78922eb",
   "metadata": {
    "slideshow": {
     "slide_type": "notes"
    }
   },
   "outputs": [],
   "source": [
    "def findMaxK(self, nums: List[int]) -> int:\n",
    "    valid = [num for num in sorted(nums, reverse=True) if -1 * num in nums]\n",
    "    if valid:\n",
    "        return valid[0]\n",
    "    else :\n",
    "        return -1\n",
    "        \n",
    "\n",
    "def findMaxK(self, nums: List[int]) -> int:\n",
    "    for num in sorted(nums, reverse=True):\n",
    "        if -1 * num in nums:\n",
    "            return num\n",
    "\n",
    "    return -1"
   ]
  },
  {
   "cell_type": "markdown",
   "id": "3c56e217",
   "metadata": {
    "cell_style": "split",
    "slideshow": {
     "slide_type": "subslide"
    }
   },
   "source": [
    "## Count Odd Numbers in an Interval Range\n",
    "Given two non-negative integers low and high. Return the count of odd numbers between low and high (inclusive)."
   ]
  },
  {
   "cell_type": "code",
   "execution_count": null,
   "id": "33366eca",
   "metadata": {
    "cell_style": "split",
    "slideshow": {
     "slide_type": "fragment"
    }
   },
   "outputs": [],
   "source": [
    "def countOdds(low, high):\n",
    "    pass\n",
    "\n",
    "\n",
    "assert countOdds(3, 7) == 3\n",
    "assert countOdds(8, 10) == 1\n"
   ]
  },
  {
   "cell_type": "code",
   "execution_count": null,
   "id": "d4beeb5e",
   "metadata": {
    "slideshow": {
     "slide_type": "notes"
    }
   },
   "outputs": [],
   "source": [
    "def countOdds(low, high):\n",
    "    half = (high - low) // 2\n",
    "    if low % 2 == 0 and high % 2 == 0:\n",
    "        return half\n",
    "    else:\n",
    "        return half + 1"
   ]
  },
  {
   "cell_type": "markdown",
   "id": "738f2307",
   "metadata": {
    "slideshow": {
     "slide_type": "subslide"
    }
   },
   "source": [
    "## Thank You\n",
    "Do you have any questions?"
   ]
  }
 ],
 "metadata": {
  "kernelspec": {
   "display_name": "Python 3 (ipykernel)",
   "language": "python",
   "name": "python3"
  },
  "language_info": {
   "codemirror_mode": {
    "name": "ipython",
    "version": 3
   },
   "file_extension": ".py",
   "mimetype": "text/x-python",
   "name": "python",
   "nbconvert_exporter": "python",
   "pygments_lexer": "ipython3",
   "version": "3.8.9"
  },
  "rise": {
   "auto_select": "code",
   "enable_chalkboard": true,
   "start_slideshow_at": "beginning"
  }
 },
 "nbformat": 4,
 "nbformat_minor": 5
}
