{
 "cells": [
  {
   "cell_type": "markdown",
   "id": "fec8326d",
   "metadata": {
    "slideshow": {
     "slide_type": "slide"
    }
   },
   "source": [
    "# Python: Strings"
   ]
  },
  {
   "cell_type": "markdown",
   "id": "a205566d",
   "metadata": {
    "slideshow": {
     "slide_type": "subslide"
    }
   },
   "source": [
    "## String Basics"
   ]
  },
  {
   "cell_type": "code",
   "execution_count": null,
   "id": "043f952d",
   "metadata": {
    "slideshow": {
     "slide_type": "fragment"
    }
   },
   "outputs": [],
   "source": [
    "name = 'Ajesh Mishra'"
   ]
  },
  {
   "cell_type": "code",
   "execution_count": null,
   "id": "59c10f2e",
   "metadata": {
    "slideshow": {
     "slide_type": "notes"
    }
   },
   "outputs": [],
   "source": [
    "my_message = 'Let\\'s go'\n",
    "my_message = \"Let's go\"\n",
    "print(my_message)\n",
    "\n",
    "name = 'Ajesh Mishra'\n",
    "print(name)\n",
    "\n",
    "name = \"Ajesh Mishra\"\n",
    "print(name)"
   ]
  },
  {
   "cell_type": "markdown",
   "id": "7f962cb2",
   "metadata": {
    "slideshow": {
     "slide_type": "subslide"
    }
   },
   "source": [
    "## String Operations"
   ]
  },
  {
   "cell_type": "markdown",
   "id": "5c470e79",
   "metadata": {
    "slideshow": {
     "slide_type": "fragment"
    }
   },
   "source": [
    "- Length of a String: `len`"
   ]
  },
  {
   "cell_type": "code",
   "execution_count": null,
   "id": "80d73ce7",
   "metadata": {
    "slideshow": {
     "slide_type": "fragment"
    }
   },
   "outputs": [],
   "source": [
    "name = 'Ajesh Mishra'"
   ]
  },
  {
   "cell_type": "markdown",
   "id": "e970f6c4",
   "metadata": {
    "slideshow": {
     "slide_type": "fragment"
    }
   },
   "source": [
    "- Access `char` inside a String"
   ]
  },
  {
   "cell_type": "code",
   "execution_count": null,
   "id": "3971790c",
   "metadata": {
    "slideshow": {
     "slide_type": "fragment"
    }
   },
   "outputs": [],
   "source": [
    "name = 'Ajesh Mishra'"
   ]
  },
  {
   "cell_type": "markdown",
   "id": "297d3a88",
   "metadata": {
    "slideshow": {
     "slide_type": "notes"
    }
   },
   "source": [
    "- Access Last Char of the String with `name[-1]`"
   ]
  },
  {
   "cell_type": "markdown",
   "id": "333936fe",
   "metadata": {
    "slideshow": {
     "slide_type": "subslide"
    }
   },
   "source": [
    "## String Operations"
   ]
  },
  {
   "cell_type": "markdown",
   "id": "a0b3b18c",
   "metadata": {
    "slideshow": {
     "slide_type": "fragment"
    }
   },
   "source": [
    "- Access a `range` of Characters"
   ]
  },
  {
   "cell_type": "code",
   "execution_count": null,
   "id": "3468e439",
   "metadata": {
    "slideshow": {
     "slide_type": "fragment"
    }
   },
   "outputs": [],
   "source": [
    "name = 'Ajesh Mishra'"
   ]
  },
  {
   "cell_type": "markdown",
   "id": "27f53945",
   "metadata": {
    "slideshow": {
     "slide_type": "notes"
    }
   },
   "source": [
    "- Step optional parameter in the range\n",
    "- We can omit the first value in the range\n",
    "- We can omit the second value in the range"
   ]
  },
  {
   "cell_type": "markdown",
   "id": "f7a63921",
   "metadata": {
    "slideshow": {
     "slide_type": "fragment"
    }
   },
   "source": [
    "- Convert the string to all upper/ lower case letter"
   ]
  },
  {
   "cell_type": "code",
   "execution_count": null,
   "id": "153637ff",
   "metadata": {
    "slideshow": {
     "slide_type": "fragment"
    }
   },
   "outputs": [],
   "source": [
    "name = 'Ajesh Mishra'"
   ]
  },
  {
   "cell_type": "markdown",
   "id": "c2df099e",
   "metadata": {
    "slideshow": {
     "slide_type": "subslide"
    }
   },
   "source": [
    "## String Operations"
   ]
  },
  {
   "cell_type": "markdown",
   "id": "759d6378",
   "metadata": {
    "slideshow": {
     "slide_type": "fragment"
    }
   },
   "source": [
    "- `find` and `count`"
   ]
  },
  {
   "cell_type": "code",
   "execution_count": null,
   "id": "d3be1952",
   "metadata": {
    "slideshow": {
     "slide_type": "fragment"
    }
   },
   "outputs": [],
   "source": [
    "message = 'Hello World'"
   ]
  },
  {
   "cell_type": "markdown",
   "id": "35f3c401",
   "metadata": {
    "slideshow": {
     "slide_type": "fragment"
    }
   },
   "source": [
    "- `replace` a substring"
   ]
  },
  {
   "cell_type": "code",
   "execution_count": null,
   "id": "41b6d994",
   "metadata": {
    "slideshow": {
     "slide_type": "fragment"
    }
   },
   "outputs": [],
   "source": [
    "message = 'Hello World'"
   ]
  },
  {
   "cell_type": "markdown",
   "id": "fc46f38a",
   "metadata": {
    "slideshow": {
     "slide_type": "subslide"
    }
   },
   "source": [
    "## String Operations"
   ]
  },
  {
   "cell_type": "markdown",
   "id": "457d8270",
   "metadata": {
    "slideshow": {
     "slide_type": "fragment"
    }
   },
   "source": [
    "- String concatenation"
   ]
  },
  {
   "cell_type": "code",
   "execution_count": null,
   "id": "9897f3a2",
   "metadata": {
    "slideshow": {
     "slide_type": "fragment"
    }
   },
   "outputs": [],
   "source": [
    "greetings = 'Hello'\n",
    "name = 'Ajesh'"
   ]
  },
  {
   "cell_type": "markdown",
   "id": "ecc50d94",
   "metadata": {
    "slideshow": {
     "slide_type": "fragment"
    }
   },
   "source": [
    "- String Format, F-Strings and Interpolation"
   ]
  },
  {
   "cell_type": "code",
   "execution_count": null,
   "id": "fb81860c",
   "metadata": {
    "slideshow": {
     "slide_type": "fragment"
    }
   },
   "outputs": [],
   "source": [
    "greetings = 'Hello'\n",
    "name = 'Ajesh'"
   ]
  },
  {
   "cell_type": "markdown",
   "id": "47fa5bad",
   "metadata": {
    "slideshow": {
     "slide_type": "subslide"
    }
   },
   "source": [
    "## Unlock all the String Functions"
   ]
  },
  {
   "cell_type": "markdown",
   "id": "aec638b0",
   "metadata": {
    "slideshow": {
     "slide_type": "fragment"
    }
   },
   "source": [
    "- Inspect Python Class with `dir`"
   ]
  },
  {
   "cell_type": "code",
   "execution_count": null,
   "id": "e28db90b",
   "metadata": {
    "slideshow": {
     "slide_type": "fragment"
    }
   },
   "outputs": [],
   "source": [
    "name = 'Ajesh'"
   ]
  },
  {
   "cell_type": "code",
   "execution_count": null,
   "id": "6c36b0e5",
   "metadata": {
    "slideshow": {
     "slide_type": "notes"
    }
   },
   "outputs": [],
   "source": [
    "print(dir(name))\n",
    "for i, fn in enumerate(dir(name)):\n",
    "    if fn.startswith('__'):\n",
    "        continue\n",
    "    print(f'{fn: <20}', end = ' ')\n",
    "    if i % 5 == 0:\n",
    "        print()"
   ]
  },
  {
   "cell_type": "markdown",
   "id": "c3df79f1",
   "metadata": {
    "slideshow": {
     "slide_type": "fragment"
    }
   },
   "source": [
    "- Get `help` from the Python Interpreter"
   ]
  },
  {
   "cell_type": "code",
   "execution_count": null,
   "id": "35a89c9b",
   "metadata": {
    "slideshow": {
     "slide_type": "fragment"
    }
   },
   "outputs": [],
   "source": []
  },
  {
   "cell_type": "code",
   "execution_count": null,
   "id": "e144eae8",
   "metadata": {
    "slideshow": {
     "slide_type": "notes"
    }
   },
   "outputs": [],
   "source": [
    "print(help(str.capitalize))"
   ]
  },
  {
   "cell_type": "markdown",
   "id": "35100db3",
   "metadata": {
    "slideshow": {
     "slide_type": "subslide"
    }
   },
   "source": [
    "# Thank You\n",
    "Do you have any questions?"
   ]
  }
 ],
 "metadata": {
  "celltoolbar": "Slideshow",
  "kernelspec": {
   "display_name": "Python 3 (ipykernel)",
   "language": "python",
   "name": "python3"
  },
  "language_info": {
   "codemirror_mode": {
    "name": "ipython",
    "version": 3
   },
   "file_extension": ".py",
   "mimetype": "text/x-python",
   "name": "python",
   "nbconvert_exporter": "python",
   "pygments_lexer": "ipython3",
   "version": "3.8.9"
  },
  "rise": {
   "auto_select": "code",
   "enable_chalkboard": true,
   "start_slideshow_at": "beginning"
  }
 },
 "nbformat": 4,
 "nbformat_minor": 5
}
