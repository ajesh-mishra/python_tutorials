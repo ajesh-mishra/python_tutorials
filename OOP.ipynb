{
 "cells": [
  {
   "cell_type": "markdown",
   "id": "2454254d",
   "metadata": {
    "slideshow": {
     "slide_type": "slide"
    }
   },
   "source": [
    "# Object Oriented Programming "
   ]
  },
  {
   "cell_type": "markdown",
   "id": "f6475984",
   "metadata": {
    "slideshow": {
     "slide_type": "subslide"
    }
   },
   "source": [
    "- **Encapsulation**: Logically group data/ `variables` and their associated functions/ `methods` together."
   ]
  },
  {
   "cell_type": "markdown",
   "id": "da9c6dda",
   "metadata": {
    "slideshow": {
     "slide_type": "fragment"
    }
   },
   "source": [
    "- **Abstraction**: using `classes` you can generalize your `object` types, simplifying your program."
   ]
  },
  {
   "cell_type": "markdown",
   "id": "0bafca87",
   "metadata": {
    "slideshow": {
     "slide_type": "fragment"
    }
   },
   "source": [
    "- **Inheritance**: `classes` can inherit attributes and methods/ functions from another class which makes code re-usability very easy."
   ]
  },
  {
   "cell_type": "markdown",
   "id": "fbb84d15",
   "metadata": {
    "slideshow": {
     "slide_type": "fragment"
    }
   },
   "source": [
    "- **Polymorphism**: a single `class` can be used to create many `objects`, all from the same piece of code."
   ]
  },
  {
   "cell_type": "markdown",
   "id": "f88c215e",
   "metadata": {
    "slideshow": {
     "slide_type": "subslide"
    }
   },
   "source": [
    "`class` and `instance`"
   ]
  },
  {
   "cell_type": "code",
   "execution_count": null,
   "id": "bda0cf3e",
   "metadata": {
    "slideshow": {
     "slide_type": "fragment"
    }
   },
   "outputs": [],
   "source": []
  },
  {
   "cell_type": "code",
   "execution_count": null,
   "id": "da58b61f",
   "metadata": {
    "slideshow": {
     "slide_type": "notes"
    }
   },
   "outputs": [],
   "source": [
    "class Employee:\n",
    "    pass\n",
    "\n",
    "emp_1 = Employee()\n",
    "emp_2 = Employee()\n",
    "\n",
    "print(emp_1)\n",
    "print(emp_2)\n",
    "\n",
    "emp_1.first = 'Ajesh'\n",
    "emp_1.last = 'Mishra'\n",
    "emp_1.email = 'Ajesh.Mishra@company.com'\n",
    "emp_1.pay = 50_000\n",
    "\n",
    "emp_2.first = 'John'\n",
    "emp_2.last = 'Doe'\n",
    "emp_2.email = 'John.Doe@company.com'\n",
    "emp_2.pay = 55_000\n",
    "\n",
    "print(emp_1.email)\n",
    "print(emp_2.email)"
   ]
  },
  {
   "cell_type": "code",
   "execution_count": null,
   "id": "254c95ea",
   "metadata": {
    "slideshow": {
     "slide_type": "notes"
    }
   },
   "outputs": [],
   "source": [
    "class Employee:\n",
    "    # class variable\n",
    "    raise_amount = 1.05\n",
    "    total_emps = 0\n",
    "    \n",
    "    def __init__(self, first, last, pay):\n",
    "        self.first = first.capitalize() # instance variable\n",
    "        self.last = last.capitalize()\n",
    "        self.pay = pay\n",
    "        self.email = f'{first.lower()}.{last.lower()}@company.com'\n",
    "        \n",
    "        Employee.total_emps += 1\n",
    "        \n",
    "    def full_name(self):\n",
    "        return f'{self.first} {self.last}'\n",
    "    \n",
    "    def apply_raise():\n",
    "        self.pay = int(self.pay * self.raise_amount)\n",
    "\n",
    "    \n",
    "emp_1 = Employee('Ajesh', 'Mishra', 50_000)\n",
    "emp_2 = Employee('John', 'Doe', 55_000)\n",
    "\n",
    "print(emp_1.email, emp_1.first, emp_1.last)\n",
    "print(emp_2.email, emp_2.first, emp_2.last)\n",
    "\n",
    "print(Employee.full_name(emp_1))\n",
    "print(Employee.full_name(emp_2))\n",
    "\n",
    "print(emp_1.full_name())\n",
    "print(emp_2.full_name())\n",
    "\n",
    "print(Employee.raise_amount)\n",
    "print(emp_1.raise_amount)\n",
    "print(emp_2.raise_amount)\n",
    "\n",
    "print(emp_1.__dict__)\n",
    "print(Employee.__dict__)"
   ]
  },
  {
   "cell_type": "markdown",
   "id": "c0eedb7e",
   "metadata": {
    "slideshow": {
     "slide_type": "notes"
    }
   },
   "source": [
    "- Class Variables: `self.raise_amount` or `Employee.raise_amount`, explanation with `print(emp_1.__dict__)`\n",
    "- `Employee.total_emps`"
   ]
  },
  {
   "cell_type": "markdown",
   "id": "f4f59ebd",
   "metadata": {
    "slideshow": {
     "slide_type": "subslide"
    }
   },
   "source": [
    "## Things to remember:\n",
    "- `classes` have `class variables` and functions called `methods`.\n",
    "- `objects` are instances of `classes`.\n",
    "- `objects` can have variables called `instance variable`.\n",
    "- `class variables` is shared by all objects/ instances of a class where as `instance variable` is specific to an object."
   ]
  },
  {
   "cell_type": "markdown",
   "id": "9931e3ba",
   "metadata": {
    "slideshow": {
     "slide_type": "subslide"
    }
   },
   "source": [
    "`classmethods` and `staticmethods`"
   ]
  },
  {
   "cell_type": "code",
   "execution_count": null,
   "id": "bf45dc12",
   "metadata": {
    "slideshow": {
     "slide_type": "fragment"
    }
   },
   "outputs": [],
   "source": [
    "class Employee:\n",
    "\n",
    "    raise_amount = 1.05\n",
    "    total_emps = 0\n",
    "    \n",
    "    def __init__(self, first, last, pay):\n",
    "        self.first = first.capitalize() # instance variable\n",
    "        self.last = last.capitalize()\n",
    "        self.pay = pay\n",
    "        self.email = f'{first.lower()}.{last.lower()}@company.com'\n",
    "        \n",
    "        Employee.total_emps += 1\n",
    "        \n",
    "    def full_name(self):\n",
    "        return f'{self.first} {self.last}'\n",
    "    \n",
    "    def apply_raise():\n",
    "        self.pay = int(self.pay * self.raise_amount)\n",
    "\n",
    "    \n",
    "emp_1 = Employee('Ajesh', 'Mishra', 50_000)\n",
    "emp_2 = Employee('John', 'Doe', 55_000)"
   ]
  },
  {
   "cell_type": "code",
   "execution_count": null,
   "id": "5a9c65a0",
   "metadata": {
    "slideshow": {
     "slide_type": "notes"
    }
   },
   "outputs": [],
   "source": [
    "class Employee:\n",
    "    \n",
    "    raise_amount = 1.05\n",
    "    total_emps = 0\n",
    "    \n",
    "    def __init__(self, first, last, pay):\n",
    "        self.first = first.capitalize() # instance variable\n",
    "        self.last = last.capitalize()\n",
    "        self.pay = pay\n",
    "        self.email = f'{first.lower()}.{last.lower()}@company.com'\n",
    "        Employee.total_emps += 1\n",
    "        \n",
    "    def full_name(self):\n",
    "        return f'{self.first} {self.last}'\n",
    "    \n",
    "    def apply_raise(self):\n",
    "        self.pay = int(self.pay * self.raise_amount)\n",
    "        \n",
    "    @classmethod\n",
    "    def set_raise_amount(cls, amount):\n",
    "        cls.raise_amount = amount\n",
    "\n",
    "    @classmethod\n",
    "    def from_csv(cls, emp_str):\n",
    "        first, last, pay = emp_str.split(',')\n",
    "        return cls(first, last, pay)\n",
    "        \n",
    "    \n",
    "emp_1 = Employee('Ajesh', 'Mishra', 50_000)\n",
    "emp_2 = Employee('John', 'Doe', 55_000)\n",
    "\n",
    "# Example of class method\n",
    "Employee.set_raise_amount(1.06)\n",
    "print(Employee.raise_amount)\n",
    "print(emp_1.raise_amount)\n",
    "\n",
    "# Practical example of class method\n",
    "# Provide multiple ways to create objects and instance if the class\n",
    "emp_str_3 = 'Peter,Parker,5000'\n",
    "emp_str_4 = 'Eddie,Brock,5500'\n",
    "\n",
    "first, last, pay = emp_str_3.split(',')\n",
    "emp_3 = Employee(first, last, pay)\n",
    "\n",
    "emp_3 = Employee.from_csv(emp_str_1)\n",
    "print(emp_1)"
   ]
  },
  {
   "cell_type": "markdown",
   "id": "f7e4c6de",
   "metadata": {
    "slideshow": {
     "slide_type": "subslide"
    }
   },
   "source": [
    "## Things to remember\n",
    "- `methods` are functions that take `self` as the first variable by default.\n",
    "- `classmethods` are functions that are decorated with `@classmethod` and take `cls` as the first argument.\n",
    "- `staticmethods` are regular functions that have some logical connection with the class."
   ]
  },
  {
   "cell_type": "markdown",
   "id": "4e3aa8a3",
   "metadata": {
    "slideshow": {
     "slide_type": "subslide"
    }
   },
   "source": [
    "Inherintance"
   ]
  },
  {
   "cell_type": "code",
   "execution_count": null,
   "id": "70f41651",
   "metadata": {
    "slideshow": {
     "slide_type": "fragment"
    }
   },
   "outputs": [],
   "source": [
    "class Employee:\n",
    "    \n",
    "    raise_amount = 1.05\n",
    "    total_emps = 0\n",
    "    \n",
    "    def __init__(self, first, last, pay):\n",
    "        self.first = first.capitalize() # instance variable\n",
    "        self.last = last.capitalize()\n",
    "        self.pay = pay\n",
    "        self.email = f'{first.lower()}.{last.lower()}@company.com'\n",
    "        Employee.total_emps += 1\n",
    "        \n",
    "    def full_name(self):\n",
    "        return f'{self.first} {self.last}'\n",
    "    \n",
    "    def apply_raise(self):\n",
    "        self.pay = int(self.pay * self.raise_amount)\n",
    "\n",
    "\n",
    "dev_1 = Employee('Ajesh', 'Mishra', 50_000)\n",
    "dev_2 = Employee('John', 'Doe', 55_000)"
   ]
  },
  {
   "cell_type": "code",
   "execution_count": null,
   "id": "12a4145d",
   "metadata": {
    "slideshow": {
     "slide_type": "notes"
    }
   },
   "outputs": [],
   "source": [
    "class Employee:\n",
    "    \n",
    "    raise_amount = 1.05\n",
    "    total_emps = 0\n",
    "    \n",
    "    def __init__(self, first, last, pay):\n",
    "        self.first = first.capitalize() # instance variable\n",
    "        self.last = last.capitalize()\n",
    "        self.pay = pay\n",
    "        self.email = f'{first.lower()}.{last.lower()}@company.com'\n",
    "        Employee.total_emps += 1\n",
    "        \n",
    "    def full_name(self):\n",
    "        return f'{self.first} {self.last}'\n",
    "    \n",
    "    def apply_raise(self):\n",
    "        self.pay = int(self.pay * self.raise_amount)\n",
    "\n",
    "        \n",
    "class Developer(Employee):\n",
    "    \n",
    "    raise_amount = 1.10\n",
    "    \n",
    "    def __init__(self, first, last, pay, language):\n",
    "        super().__init__(first, last, pay)\n",
    "        self.language = language\n",
    "\n",
    "\n",
    "class Manager(Employee):\n",
    "    \n",
    "    raise_amount = 1.15\n",
    "    \n",
    "    def __init__(self, first, last, pay, reportees=None):\n",
    "        super().__init__(first, last, pay)\n",
    "        if reportees is None:\n",
    "            self.reportees = []\n",
    "        else:\n",
    "            self.reportees = reportees\n",
    "            \n",
    "    def add_reportees(self, emp):\n",
    "        if emp not in self.reportees:\n",
    "            self.reportees.append(emp)\n",
    "        \n",
    "    def remove_reportees(self, emp):\n",
    "        if emp in self.reportees:\n",
    "            self.reportees.remove(emp)\n",
    "            \n",
    "    def list_reportees(self):\n",
    "        for emp in self.reportees:\n",
    "            print(f'{emp.full_name()} <{emp.email}>')\n",
    "\n",
    "\n",
    "# Inherites the `__init__` method\n",
    "dev_1 = Developer('Ajesh', 'Mishra', 50_000, 'Python')\n",
    "dev_2 = Developer('John', 'Doe', 55_000, 'Java')\n",
    "\n",
    "# print(help(Developer))\n",
    "\n",
    "print(dev_1.pay)\n",
    "dev_1.apply_raise()\n",
    "print(dev_1.pay)\n",
    "\n",
    "\n",
    "# Manager\n",
    "mgr_1 = Manager('Johna', 'James', 90000, [dev_1])\n",
    "print(mgr_1.full_name())\n",
    "mgr_1.list_reportees()"
   ]
  },
  {
   "cell_type": "markdown",
   "id": "a5e29505",
   "metadata": {
    "slideshow": {
     "slide_type": "subslide"
    }
   },
   "source": [
    "`isinstance` and `issubclass`"
   ]
  },
  {
   "cell_type": "code",
   "execution_count": null,
   "id": "2bfff6e8",
   "metadata": {
    "slideshow": {
     "slide_type": "fragment"
    }
   },
   "outputs": [],
   "source": [
    "class Employee:\n",
    "    pass\n",
    "\n",
    "class Developer(Employee):\n",
    "    pass\n",
    "    \n",
    "class Manager(Employee):\n",
    "    pass\n",
    "\n",
    "dev_1 = Developer()\n",
    "mgr_1 = Manager()"
   ]
  },
  {
   "cell_type": "code",
   "execution_count": null,
   "id": "495a37a7",
   "metadata": {
    "slideshow": {
     "slide_type": "notes"
    }
   },
   "outputs": [],
   "source": [
    "print(isinstance(mgr_1, Employee))\n",
    "print(isinstance(dev_1, Employee))\n",
    "\n",
    "print(issubclass(Developer, Employee))\n",
    "print(issubclass(Manager, Employee))"
   ]
  },
  {
   "cell_type": "markdown",
   "id": "55c6a686",
   "metadata": {
    "slideshow": {
     "slide_type": "subslide"
    }
   },
   "source": [
    "## Dunder Methods"
   ]
  },
  {
   "cell_type": "code",
   "execution_count": 5,
   "id": "c1d3da37",
   "metadata": {
    "slideshow": {
     "slide_type": "fragment"
    }
   },
   "outputs": [],
   "source": [
    "class Employee:\n",
    "    \n",
    "    raise_amount = 1.05\n",
    "    total_emps = 0\n",
    "    \n",
    "    def __init__(self, first, last, pay):\n",
    "        self.first = first.capitalize() # instance variable\n",
    "        self.last = last.capitalize()\n",
    "        self.pay = pay\n",
    "        self.email = f'{first.lower()}.{last.lower()}@company.com'\n",
    "        Employee.total_emps += 1\n",
    "        \n",
    "    def full_name(self):\n",
    "        return f'{self.first} {self.last}'\n",
    "    \n",
    "    def apply_raise(self):\n",
    "        self.pay = int(self.pay * self.raise_amount)\n",
    "\n",
    "\n",
    "emp_1 = Employee('Ajesh', 'Mishra', 50_000)\n",
    "emp_2 = Employee('John', 'Doe', 55_000)"
   ]
  },
  {
   "cell_type": "code",
   "execution_count": 25,
   "id": "eb4769e9",
   "metadata": {
    "slideshow": {
     "slide_type": "notes"
    }
   },
   "outputs": [
    {
     "name": "stdout",
     "output_type": "stream",
     "text": [
      "Help on method __str__ in module __main__:\n",
      "\n",
      "__str__() method of __main__.Employee instance\n",
      "    for end-user, like print function for object\n",
      "\n",
      "None\n",
      "12\n",
      "105000\n"
     ]
    }
   ],
   "source": [
    "class Employee:\n",
    "    \n",
    "    raise_amount = 1.05\n",
    "    total_emps = 0\n",
    "    \n",
    "    def __init__(self, first, last, pay):\n",
    "        self.first = first.capitalize() # instance variable\n",
    "        self.last = last.capitalize()\n",
    "        self.pay = pay\n",
    "        self.email = f'{first.lower()}.{last.lower()}@company.com'\n",
    "        Employee.total_emps += 1\n",
    "        \n",
    "    def full_name(self):\n",
    "        return f'{self.first} {self.last}'\n",
    "    \n",
    "    def apply_raise(self):\n",
    "        self.pay = int(self.pay * self.raise_amount)\n",
    "        \n",
    "    def __repr__(self):\n",
    "        '''for developers, this is a fallback if __str__ is not defined'''\n",
    "        return f'Employee({self.first}, {self.last}, {self.pay})'\n",
    "        \n",
    "    def __str__(self):\n",
    "        '''for end-user, like print function for object'''\n",
    "        return f'{self.first} {self.last} <{self.email}>'\n",
    "    \n",
    "    def __add__(self, other):\n",
    "        return self.pay + other.pay\n",
    "    \n",
    "    def __len__(self):\n",
    "        return len(self.full_name())\n",
    "        \n",
    "\n",
    "emp_1 = Employee('Ajesh', 'Mishra', 50_000)\n",
    "emp_2 = Employee('John', 'Doe', 55_000)\n",
    "\n",
    "print(help(emp_1.__str__))\n",
    "print(len(emp_1))\n",
    "print(emp_1 + emp_2)"
   ]
  },
  {
   "cell_type": "markdown",
   "id": "95d778da",
   "metadata": {
    "slideshow": {
     "slide_type": "subslide"
    }
   },
   "source": [
    "## Getters, Setters and Deleters"
   ]
  },
  {
   "cell_type": "code",
   "execution_count": 26,
   "id": "a1b9a595",
   "metadata": {
    "slideshow": {
     "slide_type": "fragment"
    }
   },
   "outputs": [
    {
     "name": "stdout",
     "output_type": "stream",
     "text": [
      "Ajesh\n",
      "ajesh.mishra@company.com\n",
      "Ajesh Mishra\n"
     ]
    }
   ],
   "source": [
    "class Employee:\n",
    "    \n",
    "    def __init__(self, first, last, pay):\n",
    "        self.first = first.capitalize() # instance variable\n",
    "        self.last = last.capitalize()\n",
    "        self.pay = pay\n",
    "        self.email = f'{first.lower()}.{last.lower()}@company.com'\n",
    "        \n",
    "    def full_name(self):\n",
    "        return f'{self.first} {self.last}'\n",
    "    \n",
    "\n",
    "\n",
    "emp_1 = Employee('Ajesh', 'Mishra', 50_000)\n",
    "emp_2 = Employee('John', 'Doe', 55_000)\n",
    "\n",
    "print(emp_1.first)\n",
    "print(emp_1.email)\n",
    "print(emp_1.full_name())"
   ]
  },
  {
   "cell_type": "code",
   "execution_count": 33,
   "id": "d2514a60",
   "metadata": {
    "slideshow": {
     "slide_type": "notes"
    }
   },
   "outputs": [
    {
     "name": "stdout",
     "output_type": "stream",
     "text": [
      "Jim\n",
      "Jim.Fallon@company.com\n",
      "Jim Fallon\n"
     ]
    }
   ],
   "source": [
    "class Employee:\n",
    "    \n",
    "    def __init__(self, first, last, pay):\n",
    "        self.first = first.capitalize() # instance variable\n",
    "        self.last = last.capitalize()\n",
    "        self.pay = pay\n",
    "#         self.email = f'{first.lower()}.{last.lower()}@company.com'\n",
    "\n",
    "    @property\n",
    "    def email(self):\n",
    "        return f'{self.first}.{self.last}@company.com'\n",
    "    \n",
    "    @property\n",
    "    def full_name(self):\n",
    "        return f'{self.first} {self.last}'\n",
    "    \n",
    "    @full_name.setter\n",
    "    def full_name(self, name):\n",
    "        first, last = name.split(' ')\n",
    "        self.first = first\n",
    "        self.last = last\n",
    "\n",
    "    @full_name.deleter\n",
    "    def full_name(self, name):\n",
    "        print(f'Employee {self.first} deleted!')\n",
    "        self.first = None\n",
    "        self.last = None\n",
    "\n",
    "\n",
    "emp_1 = Employee('Ajesh', 'Mishra', 50_000)\n",
    "emp_2 = Employee('John', 'Doe', 55_000)\n",
    "\n",
    "emp_1.first = 'Jim'\n",
    "emp_1.full_name = 'Jim Fallon'\n",
    "\n",
    "print(emp_1.first)\n",
    "print(emp_1.email)\n",
    "print(emp_1.full_name)\n",
    "\n",
    "del emp_1.full_name"
   ]
  },
  {
   "cell_type": "markdown",
   "id": "3af08bd8",
   "metadata": {
    "slideshow": {
     "slide_type": "subslide"
    }
   },
   "source": [
    "## Thank You\n",
    "Do you have any questions?"
   ]
  }
 ],
 "metadata": {
  "celltoolbar": "Slideshow",
  "kernelspec": {
   "display_name": "Python 3 (ipykernel)",
   "language": "python",
   "name": "python3"
  },
  "language_info": {
   "codemirror_mode": {
    "name": "ipython",
    "version": 3
   },
   "file_extension": ".py",
   "mimetype": "text/x-python",
   "name": "python",
   "nbconvert_exporter": "python",
   "pygments_lexer": "ipython3",
   "version": "3.8.9"
  }
 },
 "nbformat": 4,
 "nbformat_minor": 5
}
