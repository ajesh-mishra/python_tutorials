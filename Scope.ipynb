{
 "cells": [
  {
   "cell_type": "markdown",
   "id": "0af5bd2d",
   "metadata": {
    "slideshow": {
     "slide_type": "slide"
    }
   },
   "source": [
    "# Variable Scopes"
   ]
  },
  {
   "cell_type": "markdown",
   "id": "1bab01d2",
   "metadata": {
    "slideshow": {
     "slide_type": "subslide"
    }
   },
   "source": [
    "## `local` and `global` variables"
   ]
  },
  {
   "cell_type": "code",
   "execution_count": null,
   "id": "1429869b",
   "metadata": {
    "slideshow": {
     "slide_type": "fragment"
    }
   },
   "outputs": [],
   "source": []
  },
  {
   "cell_type": "markdown",
   "id": "0b2f4f6e",
   "metadata": {
    "slideshow": {
     "slide_type": "notes"
    }
   },
   "source": [
    "- example\n",
    "```\n",
    "x = 'global x'\n",
    "def test():\n",
    "    global x\n",
    "    y = 'local y'\n",
    "    x = 'local x'\n",
    "    print(y)\n",
    "    print(x)\n",
    "test()\n",
    "print(x)\n",
    "print(y)\n",
    "```"
   ]
  },
  {
   "cell_type": "markdown",
   "id": "4d6ae1c6",
   "metadata": {
    "slideshow": {
     "slide_type": "subslide"
    }
   },
   "source": [
    "## `enclosing` variables"
   ]
  },
  {
   "cell_type": "code",
   "execution_count": null,
   "id": "196199be",
   "metadata": {
    "slideshow": {
     "slide_type": "fragment"
    }
   },
   "outputs": [],
   "source": []
  },
  {
   "cell_type": "markdown",
   "id": "82be24c5",
   "metadata": {
    "slideshow": {
     "slide_type": "notes"
    }
   },
   "source": [
    "- example\n",
    "```\n",
    "x = 'global x'\n",
    "def outer():\n",
    "    x = 'outer x'\n",
    "    def inner():\n",
    "        x = 'inner x'\n",
    "        print(x)\n",
    "    inner()\n",
    "    print(x)\n",
    "outer()\n",
    "```"
   ]
  },
  {
   "cell_type": "markdown",
   "id": "68174c8d",
   "metadata": {
    "slideshow": {
     "slide_type": "subslide"
    }
   },
   "source": [
    "## `builtin` functions and variables"
   ]
  },
  {
   "cell_type": "code",
   "execution_count": null,
   "id": "9f86fcb4",
   "metadata": {
    "slideshow": {
     "slide_type": "fragment"
    }
   },
   "outputs": [],
   "source": []
  },
  {
   "cell_type": "markdown",
   "id": "f4cb3a92",
   "metadata": {
    "slideshow": {
     "slide_type": "notes"
    }
   },
   "source": [
    "- example\n",
    "```\n",
    "import builtins\n",
    "print(dir(builtins))\n",
    "```"
   ]
  },
  {
   "cell_type": "markdown",
   "id": "d8962019",
   "metadata": {
    "slideshow": {
     "slide_type": "subslide"
    }
   },
   "source": [
    "## Recap"
   ]
  },
  {
   "cell_type": "markdown",
   "id": "da049763",
   "metadata": {
    "slideshow": {
     "slide_type": "fragment"
    }
   },
   "source": [
    "Python interpreter looks for variables in the `local` scope first then in `enclosing` scope, then in `global` scope and finally in the `builtins`"
   ]
  },
  {
   "cell_type": "markdown",
   "id": "cd62c252",
   "metadata": {
    "slideshow": {
     "slide_type": "subslide"
    }
   },
   "source": [
    "## Thank You\n",
    "Do you have any questions?"
   ]
  }
 ],
 "metadata": {
  "celltoolbar": "Slideshow",
  "kernelspec": {
   "display_name": "Python 3 (ipykernel)",
   "language": "python",
   "name": "python3"
  },
  "language_info": {
   "codemirror_mode": {
    "name": "ipython",
    "version": 3
   },
   "file_extension": ".py",
   "mimetype": "text/x-python",
   "name": "python",
   "nbconvert_exporter": "python",
   "pygments_lexer": "ipython3",
   "version": "3.8.9"
  },
  "rise": {
   "auto_select": "code",
   "enable_chalkboard": true,
   "start_slideshow_at": "beginning"
  }
 },
 "nbformat": 4,
 "nbformat_minor": 5
}
