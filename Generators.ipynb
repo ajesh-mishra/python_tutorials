{
 "cells": [
  {
   "cell_type": "markdown",
   "id": "5f789705",
   "metadata": {},
   "source": [
    "# Generators"
   ]
  },
  {
   "cell_type": "markdown",
   "id": "a86d77af",
   "metadata": {},
   "source": [
    "## Syntax"
   ]
  },
  {
   "cell_type": "code",
   "execution_count": 14,
   "id": "90ced925",
   "metadata": {},
   "outputs": [
    {
     "name": "stdout",
     "output_type": "stream",
     "text": [
      "[1, 4, 9, 16, 25]\n"
     ]
    }
   ],
   "source": [
    "def square_numbers(nums):\n",
    "    result = []\n",
    "    for num in nums:\n",
    "        result.append(num * num)\n",
    "    return result\n",
    "nums = [1, 2, 3, 4, 5]\n",
    "squared_nums = square_numbers(nums)\n",
    "print(squared_nums)"
   ]
  },
  {
   "cell_type": "markdown",
   "id": "ea4aa11b",
   "metadata": {},
   "source": [
    "- example\n",
    "```\n",
    "def square_numbers(nums):\n",
    "    for num in nums:\n",
    "        yield(num * num)\n",
    "squared_nums = square_numbers([1, 2, 3, 4, 5])\n",
    "print(next(squared_nums))\n",
    "for num in squared_nums:\n",
    "    print(num)\n",
    "```\n",
    "- example\n",
    "```\n",
    "nums = [1, 2, 3, 4, 5]\n",
    "squared_nums = (num * num for num in nums)\n",
    "print(next(nums))\n",
    "```"
   ]
  },
  {
   "cell_type": "markdown",
   "id": "9ec09d6b",
   "metadata": {},
   "source": [
    "## Performance"
   ]
  },
  {
   "cell_type": "code",
   "execution_count": 1,
   "id": "9ec9b241",
   "metadata": {},
   "outputs": [
    {
     "ename": "ModuleNotFoundError",
     "evalue": "No module named 'mem_profile'",
     "output_type": "error",
     "traceback": [
      "\u001b[0;31m---------------------------------------------------------------------------\u001b[0m",
      "\u001b[0;31mModuleNotFoundError\u001b[0m                       Traceback (most recent call last)",
      "Cell \u001b[0;32mIn[1], line 1\u001b[0m\n\u001b[0;32m----> 1\u001b[0m \u001b[38;5;28;01mimport\u001b[39;00m \u001b[38;5;21;01mmem_profile\u001b[39;00m\n\u001b[1;32m      2\u001b[0m \u001b[38;5;28;01mimport\u001b[39;00m \u001b[38;5;21;01mrandom\u001b[39;00m\n\u001b[1;32m      3\u001b[0m \u001b[38;5;28;01mimport\u001b[39;00m \u001b[38;5;21;01mtime\u001b[39;00m\n",
      "\u001b[0;31mModuleNotFoundError\u001b[0m: No module named 'mem_profile'"
     ]
    }
   ],
   "source": [
    "import mem_profile\n",
    "import random\n",
    "import time\n",
    "\n",
    "students = ['John', 'Corry', 'Adam', 'Steve', 'Eric', 'Kent']\n",
    "major = ['Math', 'CS', 'Arts', 'Physics', 'Bio', 'Business']\n",
    "\n",
    "print(f'Memory Before: {mem_profile.memory_usage_resource()} MB')"
   ]
  },
  {
   "cell_type": "markdown",
   "id": "8f79e906",
   "metadata": {},
   "source": [
    "- example\n",
    "```\n",
    "def square_numbers(nums):\n",
    "    for num in nums:\n",
    "        yield(num * num)\n",
    "squared_nums = square_numbers([1, 2, 3, 4, 5])\n",
    "print(next(squared_nums))\n",
    "for num in squared_nums:\n",
    "    print(num)\n",
    "```"
   ]
  },
  {
   "cell_type": "markdown",
   "id": "63700f0f",
   "metadata": {},
   "source": [
    "## Thank You\n",
    "Do you have any questions?"
   ]
  }
 ],
 "metadata": {
  "kernelspec": {
   "display_name": "Python 3 (ipykernel)",
   "language": "python",
   "name": "python3"
  },
  "language_info": {
   "codemirror_mode": {
    "name": "ipython",
    "version": 3
   },
   "file_extension": ".py",
   "mimetype": "text/x-python",
   "name": "python",
   "nbconvert_exporter": "python",
   "pygments_lexer": "ipython3",
   "version": "3.8.9"
  }
 },
 "nbformat": 4,
 "nbformat_minor": 5
}
