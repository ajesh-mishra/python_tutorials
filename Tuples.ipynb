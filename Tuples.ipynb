{
 "cells": [
  {
   "cell_type": "markdown",
   "id": "d5d05658",
   "metadata": {
    "slideshow": {
     "slide_type": "slide"
    }
   },
   "source": [
    "# Tuples"
   ]
  },
  {
   "cell_type": "markdown",
   "id": "0f28af70",
   "metadata": {
    "slideshow": {
     "slide_type": "notes"
    }
   },
   "source": [
    "- Tuples are similar to list.\n",
    "- But we can't modify tuples.\n",
    "- lists are readable tuples are not.\n",
    "- Tuples looks exactly like a list."
   ]
  },
  {
   "cell_type": "markdown",
   "id": "e1f972fc",
   "metadata": {
    "slideshow": {
     "slide_type": "subslide"
    }
   },
   "source": [
    "- Modifying List"
   ]
  },
  {
   "cell_type": "code",
   "execution_count": 1,
   "id": "0ba83e23",
   "metadata": {
    "slideshow": {
     "slide_type": "fragment"
    }
   },
   "outputs": [],
   "source": [
    "list_1 = ['History', 'Math', 'Physics', 'Computer']"
   ]
  },
  {
   "cell_type": "markdown",
   "id": "9ec3c7a5",
   "metadata": {
    "slideshow": {
     "slide_type": "notes"
    }
   },
   "source": [
    "- example: `Changing a value: list_1[0] = 'Arts'`"
   ]
  },
  {
   "cell_type": "markdown",
   "id": "ccb57223",
   "metadata": {
    "slideshow": {
     "slide_type": "fragment"
    }
   },
   "source": [
    "- Modifying Tuples (Immutable)"
   ]
  },
  {
   "cell_type": "code",
   "execution_count": 6,
   "id": "589d08ba",
   "metadata": {
    "slideshow": {
     "slide_type": "fragment"
    }
   },
   "outputs": [],
   "source": [
    "tuple_1 = ('History', 'Math', 'Physics', 'Computer')"
   ]
  },
  {
   "cell_type": "markdown",
   "id": "143e456d",
   "metadata": {
    "slideshow": {
     "slide_type": "notes"
    }
   },
   "source": [
    "- example: `tuple_1[0] = 'Arts'`"
   ]
  },
  {
   "cell_type": "markdown",
   "id": "6b5c67e1",
   "metadata": {
    "slideshow": {
     "slide_type": "subslide"
    }
   },
   "source": [
    "## Thank You\n",
    "Do you have any questions?"
   ]
  }
 ],
 "metadata": {
  "celltoolbar": "Slideshow",
  "kernelspec": {
   "display_name": "Python 3 (ipykernel)",
   "language": "python",
   "name": "python3"
  },
  "language_info": {
   "codemirror_mode": {
    "name": "ipython",
    "version": 3
   },
   "file_extension": ".py",
   "mimetype": "text/x-python",
   "name": "python",
   "nbconvert_exporter": "python",
   "pygments_lexer": "ipython3",
   "version": "3.10.0"
  },
  "rise": {
   "auto_select": "code",
   "enable_chalkboard": true,
   "start_slideshow_at": "beginning"
  }
 },
 "nbformat": 4,
 "nbformat_minor": 5
}
