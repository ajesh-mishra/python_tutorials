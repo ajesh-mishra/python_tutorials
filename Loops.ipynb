{
 "cells": [
  {
   "cell_type": "markdown",
   "id": "8bf7d4d8",
   "metadata": {
    "slideshow": {
     "slide_type": "slide"
    }
   },
   "source": [
    "# Loops & Iterations"
   ]
  },
  {
   "cell_type": "markdown",
   "id": "94272e1b",
   "metadata": {
    "slideshow": {
     "slide_type": "subslide"
    }
   },
   "source": [
    "## `for` Loops with `break` and `continue`"
   ]
  },
  {
   "cell_type": "code",
   "execution_count": null,
   "id": "a24e5df1",
   "metadata": {
    "slideshow": {
     "slide_type": "fragment"
    }
   },
   "outputs": [],
   "source": [
    "nums = [1, 2, 3, 4, 5]\n",
    "for num in nums:\n",
    "    print(num)"
   ]
  },
  {
   "cell_type": "code",
   "execution_count": null,
   "id": "1058efc6",
   "metadata": {
    "slideshow": {
     "slide_type": "notes"
    }
   },
   "outputs": [],
   "source": [
    "# example\n",
    "\n",
    "for num in nums:\n",
    "    if num == 3:\n",
    "        print('Found 3')\n",
    "        break\n",
    "    print(num)"
   ]
  },
  {
   "cell_type": "markdown",
   "id": "94dcd4e1",
   "metadata": {
    "slideshow": {
     "slide_type": "subslide"
    }
   },
   "source": [
    "## Loops with `range`"
   ]
  },
  {
   "cell_type": "code",
   "execution_count": null,
   "id": "4c72e166",
   "metadata": {
    "slideshow": {
     "slide_type": "fragment"
    }
   },
   "outputs": [],
   "source": []
  },
  {
   "cell_type": "code",
   "execution_count": null,
   "id": "e3b23774",
   "metadata": {
    "slideshow": {
     "slide_type": "notes"
    }
   },
   "outputs": [],
   "source": [
    "# example\n",
    "\n",
    "for n in range(6):\n",
    "    print(f'{num} times {n} is {num * n}')"
   ]
  },
  {
   "cell_type": "code",
   "execution_count": null,
   "id": "d857a2f9",
   "metadata": {
    "slideshow": {
     "slide_type": "notes"
    }
   },
   "outputs": [],
   "source": [
    "# example\n",
    "\n",
    "for n in range(1, 6):\n",
    "    print(n)"
   ]
  },
  {
   "cell_type": "markdown",
   "id": "21d0b538",
   "metadata": {
    "slideshow": {
     "slide_type": "subslide"
    }
   },
   "source": [
    "## Nested `for` Loops"
   ]
  },
  {
   "cell_type": "code",
   "execution_count": null,
   "id": "406a6a1e",
   "metadata": {
    "slideshow": {
     "slide_type": "fragment"
    }
   },
   "outputs": [],
   "source": [
    "nums = [1, 2, 3]\n",
    "for num in nums:\n",
    "    print(num)"
   ]
  },
  {
   "cell_type": "code",
   "execution_count": null,
   "id": "d0cb5d6b",
   "metadata": {
    "slideshow": {
     "slide_type": "notes"
    }
   },
   "outputs": [],
   "source": [
    "# example\n",
    "\n",
    "for num in nums:\n",
    "    for letter in 'abc':\n",
    "        print(num, letter)"
   ]
  },
  {
   "cell_type": "code",
   "execution_count": null,
   "id": "1aaef450",
   "metadata": {
    "slideshow": {
     "slide_type": "notes"
    }
   },
   "outputs": [],
   "source": [
    "# example\n",
    "\n",
    "for num in nums:\n",
    "    for n in range(1, 6):\n",
    "        print(f'{num} times {n} is {num * n}')"
   ]
  },
  {
   "cell_type": "markdown",
   "id": "1174a600",
   "metadata": {
    "slideshow": {
     "slide_type": "subslide"
    }
   },
   "source": [
    "## `while` Loops"
   ]
  },
  {
   "cell_type": "code",
   "execution_count": null,
   "id": "c6227c99",
   "metadata": {
    "slideshow": {
     "slide_type": "fragment"
    }
   },
   "outputs": [],
   "source": []
  },
  {
   "cell_type": "code",
   "execution_count": null,
   "id": "92011504",
   "metadata": {
    "slideshow": {
     "slide_type": "notes"
    }
   },
   "outputs": [],
   "source": [
    "# example\n",
    "\n",
    "x = 0\n",
    "while x < 5:\n",
    "    print(x)\n",
    "    x += 1"
   ]
  },
  {
   "cell_type": "code",
   "execution_count": null,
   "id": "4da8013c",
   "metadata": {
    "slideshow": {
     "slide_type": "notes"
    }
   },
   "outputs": [],
   "source": [
    "# example\n",
    "\n",
    "x = 0\n",
    "while True:\n",
    "    if x == 5:\n",
    "        break\n",
    "    print(x)\n",
    "    x += 1"
   ]
  },
  {
   "cell_type": "markdown",
   "id": "ec157650",
   "metadata": {
    "slideshow": {
     "slide_type": "subslide"
    }
   },
   "source": [
    "## Recap"
   ]
  },
  {
   "cell_type": "markdown",
   "id": "7370cb01",
   "metadata": {
    "slideshow": {
     "slide_type": "fragment"
    }
   },
   "source": [
    "- `break` and `continue`"
   ]
  },
  {
   "cell_type": "markdown",
   "id": "74c7681e",
   "metadata": {
    "slideshow": {
     "slide_type": "fragment"
    }
   },
   "source": [
    "- Run a loop for fixed `range`"
   ]
  },
  {
   "cell_type": "markdown",
   "id": "9831f33e",
   "metadata": {
    "slideshow": {
     "slide_type": "fragment"
    }
   },
   "source": [
    "- Nested `for` loops"
   ]
  },
  {
   "cell_type": "markdown",
   "id": "12c8bc8d",
   "metadata": {
    "slideshow": {
     "slide_type": "fragment"
    }
   },
   "source": [
    "- `while` loops"
   ]
  },
  {
   "cell_type": "markdown",
   "id": "343af04e",
   "metadata": {
    "slideshow": {
     "slide_type": "subslide"
    }
   },
   "source": [
    "## Thank You\n",
    "Do you have any questions?"
   ]
  }
 ],
 "metadata": {
  "celltoolbar": "Slideshow",
  "kernelspec": {
   "display_name": "Python 3 (ipykernel)",
   "language": "python",
   "name": "python3"
  },
  "language_info": {
   "codemirror_mode": {
    "name": "ipython",
    "version": 3
   },
   "file_extension": ".py",
   "mimetype": "text/x-python",
   "name": "python",
   "nbconvert_exporter": "python",
   "pygments_lexer": "ipython3",
   "version": "3.8.9"
  },
  "rise": {
   "auto_select": "code",
   "enable_chalkboard": true,
   "start_slideshow_at": "beginning"
  }
 },
 "nbformat": 4,
 "nbformat_minor": 5
}
